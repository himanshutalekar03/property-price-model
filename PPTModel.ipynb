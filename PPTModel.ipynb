{
 "cells": [
  {
   "cell_type": "code",
   "execution_count": 1,
   "id": "ef1b3ca8-6f0f-492f-96d0-b9f00990af57",
   "metadata": {},
   "outputs": [],
   "source": [
    "import pandas as pd"
   ]
  },
  {
   "cell_type": "code",
   "execution_count": 2,
   "id": "26902a84-24eb-43bf-a5db-54685a2c41f0",
   "metadata": {},
   "outputs": [],
   "source": [
    "ppt=pd.read_csv('/Users/himanshutalekar/Desktop/Property_Price_Train.csv')"
   ]
  },
  {
   "cell_type": "code",
   "execution_count": 5,
   "id": "291a7e61-c044-4c0c-bb4a-123820d8ef5f",
   "metadata": {},
   "outputs": [
    {
     "data": {
      "text/html": [
       "<div>\n",
       "<style scoped>\n",
       "    .dataframe tbody tr th:only-of-type {\n",
       "        vertical-align: middle;\n",
       "    }\n",
       "\n",
       "    .dataframe tbody tr th {\n",
       "        vertical-align: top;\n",
       "    }\n",
       "\n",
       "    .dataframe thead th {\n",
       "        text-align: right;\n",
       "    }\n",
       "</style>\n",
       "<table border=\"1\" class=\"dataframe\">\n",
       "  <thead>\n",
       "    <tr style=\"text-align: right;\">\n",
       "      <th></th>\n",
       "      <th>Id</th>\n",
       "      <th>Building_Class</th>\n",
       "      <th>Zoning_Class</th>\n",
       "      <th>Lot_Extent</th>\n",
       "      <th>Lot_Size</th>\n",
       "      <th>Road_Type</th>\n",
       "      <th>Lane_Type</th>\n",
       "      <th>Property_Shape</th>\n",
       "      <th>Land_Outline</th>\n",
       "      <th>Utility_Type</th>\n",
       "      <th>...</th>\n",
       "      <th>Pool_Area</th>\n",
       "      <th>Pool_Quality</th>\n",
       "      <th>Fence_Quality</th>\n",
       "      <th>Miscellaneous_Feature</th>\n",
       "      <th>Miscellaneous_Value</th>\n",
       "      <th>Month_Sold</th>\n",
       "      <th>Year_Sold</th>\n",
       "      <th>Sale_Type</th>\n",
       "      <th>Sale_Condition</th>\n",
       "      <th>Sale_Price</th>\n",
       "    </tr>\n",
       "  </thead>\n",
       "  <tbody>\n",
       "    <tr>\n",
       "      <th>0</th>\n",
       "      <td>1</td>\n",
       "      <td>60</td>\n",
       "      <td>RLD</td>\n",
       "      <td>65.0</td>\n",
       "      <td>8450</td>\n",
       "      <td>Paved</td>\n",
       "      <td>NaN</td>\n",
       "      <td>Reg</td>\n",
       "      <td>Lvl</td>\n",
       "      <td>AllPub</td>\n",
       "      <td>...</td>\n",
       "      <td>0</td>\n",
       "      <td>NaN</td>\n",
       "      <td>NaN</td>\n",
       "      <td>NaN</td>\n",
       "      <td>0</td>\n",
       "      <td>2</td>\n",
       "      <td>2008</td>\n",
       "      <td>WD</td>\n",
       "      <td>Normal</td>\n",
       "      <td>208500</td>\n",
       "    </tr>\n",
       "    <tr>\n",
       "      <th>1</th>\n",
       "      <td>2</td>\n",
       "      <td>20</td>\n",
       "      <td>RLD</td>\n",
       "      <td>80.0</td>\n",
       "      <td>9600</td>\n",
       "      <td>Paved</td>\n",
       "      <td>NaN</td>\n",
       "      <td>Reg</td>\n",
       "      <td>Lvl</td>\n",
       "      <td>AllPub</td>\n",
       "      <td>...</td>\n",
       "      <td>0</td>\n",
       "      <td>NaN</td>\n",
       "      <td>NaN</td>\n",
       "      <td>NaN</td>\n",
       "      <td>0</td>\n",
       "      <td>5</td>\n",
       "      <td>2007</td>\n",
       "      <td>WD</td>\n",
       "      <td>Normal</td>\n",
       "      <td>181500</td>\n",
       "    </tr>\n",
       "    <tr>\n",
       "      <th>2</th>\n",
       "      <td>3</td>\n",
       "      <td>60</td>\n",
       "      <td>RLD</td>\n",
       "      <td>68.0</td>\n",
       "      <td>11250</td>\n",
       "      <td>Paved</td>\n",
       "      <td>NaN</td>\n",
       "      <td>IR1</td>\n",
       "      <td>Lvl</td>\n",
       "      <td>AllPub</td>\n",
       "      <td>...</td>\n",
       "      <td>0</td>\n",
       "      <td>NaN</td>\n",
       "      <td>NaN</td>\n",
       "      <td>NaN</td>\n",
       "      <td>0</td>\n",
       "      <td>9</td>\n",
       "      <td>2008</td>\n",
       "      <td>WD</td>\n",
       "      <td>Normal</td>\n",
       "      <td>223500</td>\n",
       "    </tr>\n",
       "    <tr>\n",
       "      <th>3</th>\n",
       "      <td>4</td>\n",
       "      <td>70</td>\n",
       "      <td>RLD</td>\n",
       "      <td>60.0</td>\n",
       "      <td>9550</td>\n",
       "      <td>Paved</td>\n",
       "      <td>NaN</td>\n",
       "      <td>IR1</td>\n",
       "      <td>Lvl</td>\n",
       "      <td>AllPub</td>\n",
       "      <td>...</td>\n",
       "      <td>0</td>\n",
       "      <td>NaN</td>\n",
       "      <td>NaN</td>\n",
       "      <td>NaN</td>\n",
       "      <td>0</td>\n",
       "      <td>2</td>\n",
       "      <td>2006</td>\n",
       "      <td>WD</td>\n",
       "      <td>Abnorml</td>\n",
       "      <td>140000</td>\n",
       "    </tr>\n",
       "    <tr>\n",
       "      <th>4</th>\n",
       "      <td>5</td>\n",
       "      <td>60</td>\n",
       "      <td>RLD</td>\n",
       "      <td>84.0</td>\n",
       "      <td>14260</td>\n",
       "      <td>Paved</td>\n",
       "      <td>NaN</td>\n",
       "      <td>IR1</td>\n",
       "      <td>Lvl</td>\n",
       "      <td>AllPub</td>\n",
       "      <td>...</td>\n",
       "      <td>0</td>\n",
       "      <td>NaN</td>\n",
       "      <td>NaN</td>\n",
       "      <td>NaN</td>\n",
       "      <td>0</td>\n",
       "      <td>12</td>\n",
       "      <td>2008</td>\n",
       "      <td>WD</td>\n",
       "      <td>Normal</td>\n",
       "      <td>250000</td>\n",
       "    </tr>\n",
       "  </tbody>\n",
       "</table>\n",
       "<p>5 rows × 81 columns</p>\n",
       "</div>"
      ],
      "text/plain": [
       "   Id  Building_Class Zoning_Class  Lot_Extent  Lot_Size Road_Type Lane_Type  \\\n",
       "0   1              60          RLD        65.0      8450     Paved       NaN   \n",
       "1   2              20          RLD        80.0      9600     Paved       NaN   \n",
       "2   3              60          RLD        68.0     11250     Paved       NaN   \n",
       "3   4              70          RLD        60.0      9550     Paved       NaN   \n",
       "4   5              60          RLD        84.0     14260     Paved       NaN   \n",
       "\n",
       "  Property_Shape Land_Outline Utility_Type  ... Pool_Area Pool_Quality  \\\n",
       "0            Reg          Lvl       AllPub  ...         0          NaN   \n",
       "1            Reg          Lvl       AllPub  ...         0          NaN   \n",
       "2            IR1          Lvl       AllPub  ...         0          NaN   \n",
       "3            IR1          Lvl       AllPub  ...         0          NaN   \n",
       "4            IR1          Lvl       AllPub  ...         0          NaN   \n",
       "\n",
       "  Fence_Quality Miscellaneous_Feature Miscellaneous_Value Month_Sold  \\\n",
       "0           NaN                   NaN                   0          2   \n",
       "1           NaN                   NaN                   0          5   \n",
       "2           NaN                   NaN                   0          9   \n",
       "3           NaN                   NaN                   0          2   \n",
       "4           NaN                   NaN                   0         12   \n",
       "\n",
       "  Year_Sold  Sale_Type  Sale_Condition  Sale_Price  \n",
       "0      2008         WD          Normal      208500  \n",
       "1      2007         WD          Normal      181500  \n",
       "2      2008         WD          Normal      223500  \n",
       "3      2006         WD         Abnorml      140000  \n",
       "4      2008         WD          Normal      250000  \n",
       "\n",
       "[5 rows x 81 columns]"
      ]
     },
     "execution_count": 5,
     "metadata": {},
     "output_type": "execute_result"
    }
   ],
   "source": [
    "ppt.head()"
   ]
  },
  {
   "cell_type": "code",
   "execution_count": 7,
   "id": "9ea2e14e-1386-40cf-a9d3-bb71736dbf6a",
   "metadata": {},
   "outputs": [
    {
     "data": {
      "text/plain": [
       "(1459, 81)"
      ]
     },
     "execution_count": 7,
     "metadata": {},
     "output_type": "execute_result"
    }
   ],
   "source": [
    "ppt.shape"
   ]
  },
  {
   "cell_type": "code",
   "execution_count": 9,
   "id": "af3f2a46-89a1-4f67-a83a-1f6776a7d096",
   "metadata": {},
   "outputs": [
    {
     "name": "stdout",
     "output_type": "stream",
     "text": [
      "<class 'pandas.core.frame.DataFrame'>\n",
      "RangeIndex: 1459 entries, 0 to 1458\n",
      "Data columns (total 81 columns):\n",
      " #   Column                     Non-Null Count  Dtype  \n",
      "---  ------                     --------------  -----  \n",
      " 0   Id                         1459 non-null   int64  \n",
      " 1   Building_Class             1459 non-null   int64  \n",
      " 2   Zoning_Class               1459 non-null   object \n",
      " 3   Lot_Extent                 1200 non-null   float64\n",
      " 4   Lot_Size                   1459 non-null   int64  \n",
      " 5   Road_Type                  1459 non-null   object \n",
      " 6   Lane_Type                  91 non-null     object \n",
      " 7   Property_Shape             1459 non-null   object \n",
      " 8   Land_Outline               1459 non-null   object \n",
      " 9   Utility_Type               1459 non-null   object \n",
      " 10  Lot_Configuration          1459 non-null   object \n",
      " 11  Property_Slope             1459 non-null   object \n",
      " 12  Neighborhood               1459 non-null   object \n",
      " 13  Condition1                 1459 non-null   object \n",
      " 14  Condition2                 1459 non-null   object \n",
      " 15  House_Type                 1459 non-null   object \n",
      " 16  House_Design               1459 non-null   object \n",
      " 17  Overall_Material           1459 non-null   int64  \n",
      " 18  House_Condition            1459 non-null   int64  \n",
      " 19  Construction_Year          1459 non-null   int64  \n",
      " 20  Remodel_Year               1459 non-null   int64  \n",
      " 21  Roof_Design                1459 non-null   object \n",
      " 22  Roof_Quality               1459 non-null   object \n",
      " 23  Exterior1st                1459 non-null   object \n",
      " 24  Exterior2nd                1459 non-null   object \n",
      " 25  Brick_Veneer_Type          588 non-null    object \n",
      " 26  Brick_Veneer_Area          1451 non-null   float64\n",
      " 27  Exterior_Material          1459 non-null   object \n",
      " 28  Exterior_Condition         1459 non-null   object \n",
      " 29  Foundation_Type            1459 non-null   object \n",
      " 30  Basement_Height            1422 non-null   object \n",
      " 31  Basement_Condition         1422 non-null   object \n",
      " 32  Exposure_Level             1421 non-null   object \n",
      " 33  BsmtFinType1               1422 non-null   object \n",
      " 34  BsmtFinSF1                 1459 non-null   int64  \n",
      " 35  BsmtFinType2               1421 non-null   object \n",
      " 36  BsmtFinSF2                 1459 non-null   int64  \n",
      " 37  BsmtUnfSF                  1459 non-null   int64  \n",
      " 38  Total_Basement_Area        1459 non-null   int64  \n",
      " 39  Heating_Type               1459 non-null   object \n",
      " 40  Heating_Quality            1459 non-null   object \n",
      " 41  Air_Conditioning           1459 non-null   object \n",
      " 42  Electrical_System          1458 non-null   object \n",
      " 43  First_Floor_Area           1459 non-null   int64  \n",
      " 44  Second_Floor_Area          1459 non-null   int64  \n",
      " 45  LowQualFinSF               1459 non-null   int64  \n",
      " 46  Grade_Living_Area          1459 non-null   int64  \n",
      " 47  Underground_Full_Bathroom  1459 non-null   int64  \n",
      " 48  Underground_Half_Bathroom  1459 non-null   int64  \n",
      " 49  Full_Bathroom_Above_Grade  1459 non-null   int64  \n",
      " 50  Half_Bathroom_Above_Grade  1459 non-null   int64  \n",
      " 51  Bedroom_Above_Grade        1459 non-null   int64  \n",
      " 52  Kitchen_Above_Grade        1459 non-null   int64  \n",
      " 53  Kitchen_Quality            1459 non-null   object \n",
      " 54  Rooms_Above_Grade          1459 non-null   int64  \n",
      " 55  Functional_Rate            1459 non-null   object \n",
      " 56  Fireplaces                 1459 non-null   int64  \n",
      " 57  Fireplace_Quality          770 non-null    object \n",
      " 58  Garage                     1378 non-null   object \n",
      " 59  Garage_Built_Year          1378 non-null   float64\n",
      " 60  Garage_Finish_Year         1378 non-null   object \n",
      " 61  Garage_Size                1459 non-null   int64  \n",
      " 62  Garage_Area                1459 non-null   float64\n",
      " 63  Garage_Quality             1378 non-null   object \n",
      " 64  Garage_Condition           1378 non-null   object \n",
      " 65  Pavedd_Drive               1459 non-null   object \n",
      " 66  W_Deck_Area                1459 non-null   float64\n",
      " 67  Open_Lobby_Area            1459 non-null   float64\n",
      " 68  Enclosed_Lobby_Area        1459 non-null   float64\n",
      " 69  Three_Season_Lobby_Area    1459 non-null   int64  \n",
      " 70  Screen_Lobby_Area          1459 non-null   int64  \n",
      " 71  Pool_Area                  1459 non-null   int64  \n",
      " 72  Pool_Quality               7 non-null      object \n",
      " 73  Fence_Quality              281 non-null    object \n",
      " 74  Miscellaneous_Feature      54 non-null     object \n",
      " 75  Miscellaneous_Value        1459 non-null   int64  \n",
      " 76  Month_Sold                 1459 non-null   int64  \n",
      " 77  Year_Sold                  1459 non-null   int64  \n",
      " 78  Sale_Type                  1459 non-null   object \n",
      " 79  Sale_Condition             1459 non-null   object \n",
      " 80  Sale_Price                 1459 non-null   int64  \n",
      "dtypes: float64(7), int64(31), object(43)\n",
      "memory usage: 923.4+ KB\n"
     ]
    }
   ],
   "source": [
    "ppt.info()"
   ]
  },
  {
   "cell_type": "code",
   "execution_count": 11,
   "id": "4f9d9c2c-0bf8-4e85-a9ab-b843d3174436",
   "metadata": {},
   "outputs": [
    {
     "data": {
      "text/plain": [
       "Id                  0\n",
       "Building_Class      0\n",
       "Zoning_Class        0\n",
       "Lot_Extent        259\n",
       "Lot_Size            0\n",
       "                 ... \n",
       "Month_Sold          0\n",
       "Year_Sold           0\n",
       "Sale_Type           0\n",
       "Sale_Condition      0\n",
       "Sale_Price          0\n",
       "Length: 81, dtype: int64"
      ]
     },
     "execution_count": 11,
     "metadata": {},
     "output_type": "execute_result"
    }
   ],
   "source": [
    "ppt.isnull().sum()"
   ]
  },
  {
   "cell_type": "code",
   "execution_count": 13,
   "id": "e7bc9dbe-4ce2-4975-b211-31499fa85aa1",
   "metadata": {},
   "outputs": [],
   "source": [
    "ppt=ppt.drop('Lane_Type',axis=1)"
   ]
  },
  {
   "cell_type": "code",
   "execution_count": 15,
   "id": "284971e3-b8b8-491c-b664-8d571c152d65",
   "metadata": {},
   "outputs": [
    {
     "name": "stdout",
     "output_type": "stream",
     "text": [
      "<class 'pandas.core.frame.DataFrame'>\n",
      "RangeIndex: 1459 entries, 0 to 1458\n",
      "Data columns (total 80 columns):\n",
      " #   Column                     Non-Null Count  Dtype  \n",
      "---  ------                     --------------  -----  \n",
      " 0   Id                         1459 non-null   int64  \n",
      " 1   Building_Class             1459 non-null   int64  \n",
      " 2   Zoning_Class               1459 non-null   object \n",
      " 3   Lot_Extent                 1200 non-null   float64\n",
      " 4   Lot_Size                   1459 non-null   int64  \n",
      " 5   Road_Type                  1459 non-null   object \n",
      " 6   Property_Shape             1459 non-null   object \n",
      " 7   Land_Outline               1459 non-null   object \n",
      " 8   Utility_Type               1459 non-null   object \n",
      " 9   Lot_Configuration          1459 non-null   object \n",
      " 10  Property_Slope             1459 non-null   object \n",
      " 11  Neighborhood               1459 non-null   object \n",
      " 12  Condition1                 1459 non-null   object \n",
      " 13  Condition2                 1459 non-null   object \n",
      " 14  House_Type                 1459 non-null   object \n",
      " 15  House_Design               1459 non-null   object \n",
      " 16  Overall_Material           1459 non-null   int64  \n",
      " 17  House_Condition            1459 non-null   int64  \n",
      " 18  Construction_Year          1459 non-null   int64  \n",
      " 19  Remodel_Year               1459 non-null   int64  \n",
      " 20  Roof_Design                1459 non-null   object \n",
      " 21  Roof_Quality               1459 non-null   object \n",
      " 22  Exterior1st                1459 non-null   object \n",
      " 23  Exterior2nd                1459 non-null   object \n",
      " 24  Brick_Veneer_Type          588 non-null    object \n",
      " 25  Brick_Veneer_Area          1451 non-null   float64\n",
      " 26  Exterior_Material          1459 non-null   object \n",
      " 27  Exterior_Condition         1459 non-null   object \n",
      " 28  Foundation_Type            1459 non-null   object \n",
      " 29  Basement_Height            1422 non-null   object \n",
      " 30  Basement_Condition         1422 non-null   object \n",
      " 31  Exposure_Level             1421 non-null   object \n",
      " 32  BsmtFinType1               1422 non-null   object \n",
      " 33  BsmtFinSF1                 1459 non-null   int64  \n",
      " 34  BsmtFinType2               1421 non-null   object \n",
      " 35  BsmtFinSF2                 1459 non-null   int64  \n",
      " 36  BsmtUnfSF                  1459 non-null   int64  \n",
      " 37  Total_Basement_Area        1459 non-null   int64  \n",
      " 38  Heating_Type               1459 non-null   object \n",
      " 39  Heating_Quality            1459 non-null   object \n",
      " 40  Air_Conditioning           1459 non-null   object \n",
      " 41  Electrical_System          1458 non-null   object \n",
      " 42  First_Floor_Area           1459 non-null   int64  \n",
      " 43  Second_Floor_Area          1459 non-null   int64  \n",
      " 44  LowQualFinSF               1459 non-null   int64  \n",
      " 45  Grade_Living_Area          1459 non-null   int64  \n",
      " 46  Underground_Full_Bathroom  1459 non-null   int64  \n",
      " 47  Underground_Half_Bathroom  1459 non-null   int64  \n",
      " 48  Full_Bathroom_Above_Grade  1459 non-null   int64  \n",
      " 49  Half_Bathroom_Above_Grade  1459 non-null   int64  \n",
      " 50  Bedroom_Above_Grade        1459 non-null   int64  \n",
      " 51  Kitchen_Above_Grade        1459 non-null   int64  \n",
      " 52  Kitchen_Quality            1459 non-null   object \n",
      " 53  Rooms_Above_Grade          1459 non-null   int64  \n",
      " 54  Functional_Rate            1459 non-null   object \n",
      " 55  Fireplaces                 1459 non-null   int64  \n",
      " 56  Fireplace_Quality          770 non-null    object \n",
      " 57  Garage                     1378 non-null   object \n",
      " 58  Garage_Built_Year          1378 non-null   float64\n",
      " 59  Garage_Finish_Year         1378 non-null   object \n",
      " 60  Garage_Size                1459 non-null   int64  \n",
      " 61  Garage_Area                1459 non-null   float64\n",
      " 62  Garage_Quality             1378 non-null   object \n",
      " 63  Garage_Condition           1378 non-null   object \n",
      " 64  Pavedd_Drive               1459 non-null   object \n",
      " 65  W_Deck_Area                1459 non-null   float64\n",
      " 66  Open_Lobby_Area            1459 non-null   float64\n",
      " 67  Enclosed_Lobby_Area        1459 non-null   float64\n",
      " 68  Three_Season_Lobby_Area    1459 non-null   int64  \n",
      " 69  Screen_Lobby_Area          1459 non-null   int64  \n",
      " 70  Pool_Area                  1459 non-null   int64  \n",
      " 71  Pool_Quality               7 non-null      object \n",
      " 72  Fence_Quality              281 non-null    object \n",
      " 73  Miscellaneous_Feature      54 non-null     object \n",
      " 74  Miscellaneous_Value        1459 non-null   int64  \n",
      " 75  Month_Sold                 1459 non-null   int64  \n",
      " 76  Year_Sold                  1459 non-null   int64  \n",
      " 77  Sale_Type                  1459 non-null   object \n",
      " 78  Sale_Condition             1459 non-null   object \n",
      " 79  Sale_Price                 1459 non-null   int64  \n",
      "dtypes: float64(7), int64(31), object(42)\n",
      "memory usage: 912.0+ KB\n"
     ]
    }
   ],
   "source": [
    "ppt.info()"
   ]
  },
  {
   "cell_type": "code",
   "execution_count": 17,
   "id": "1e410a27-dca0-49cc-92d8-0d2d8eda4f13",
   "metadata": {},
   "outputs": [],
   "source": [
    "ppt=ppt.drop('Brick_Veneer_Type',axis=1)"
   ]
  },
  {
   "cell_type": "code",
   "execution_count": 19,
   "id": "8c63b2ba-ec84-4e1d-8715-9e07682a7299",
   "metadata": {},
   "outputs": [],
   "source": [
    "\n",
    "ppt=ppt.drop('Pool_Quality',axis=1)\n",
    "ppt=ppt.drop('Fence_Quality',axis=1)\n",
    "ppt=ppt.drop('Miscellaneous_Feature',axis=1)\n"
   ]
  },
  {
   "cell_type": "code",
   "execution_count": 21,
   "id": "c8a330ec-77b0-4cc3-b342-517efded5162",
   "metadata": {},
   "outputs": [
    {
     "name": "stdout",
     "output_type": "stream",
     "text": [
      "<class 'pandas.core.frame.DataFrame'>\n",
      "RangeIndex: 1459 entries, 0 to 1458\n",
      "Data columns (total 76 columns):\n",
      " #   Column                     Non-Null Count  Dtype  \n",
      "---  ------                     --------------  -----  \n",
      " 0   Id                         1459 non-null   int64  \n",
      " 1   Building_Class             1459 non-null   int64  \n",
      " 2   Zoning_Class               1459 non-null   object \n",
      " 3   Lot_Extent                 1200 non-null   float64\n",
      " 4   Lot_Size                   1459 non-null   int64  \n",
      " 5   Road_Type                  1459 non-null   object \n",
      " 6   Property_Shape             1459 non-null   object \n",
      " 7   Land_Outline               1459 non-null   object \n",
      " 8   Utility_Type               1459 non-null   object \n",
      " 9   Lot_Configuration          1459 non-null   object \n",
      " 10  Property_Slope             1459 non-null   object \n",
      " 11  Neighborhood               1459 non-null   object \n",
      " 12  Condition1                 1459 non-null   object \n",
      " 13  Condition2                 1459 non-null   object \n",
      " 14  House_Type                 1459 non-null   object \n",
      " 15  House_Design               1459 non-null   object \n",
      " 16  Overall_Material           1459 non-null   int64  \n",
      " 17  House_Condition            1459 non-null   int64  \n",
      " 18  Construction_Year          1459 non-null   int64  \n",
      " 19  Remodel_Year               1459 non-null   int64  \n",
      " 20  Roof_Design                1459 non-null   object \n",
      " 21  Roof_Quality               1459 non-null   object \n",
      " 22  Exterior1st                1459 non-null   object \n",
      " 23  Exterior2nd                1459 non-null   object \n",
      " 24  Brick_Veneer_Area          1451 non-null   float64\n",
      " 25  Exterior_Material          1459 non-null   object \n",
      " 26  Exterior_Condition         1459 non-null   object \n",
      " 27  Foundation_Type            1459 non-null   object \n",
      " 28  Basement_Height            1422 non-null   object \n",
      " 29  Basement_Condition         1422 non-null   object \n",
      " 30  Exposure_Level             1421 non-null   object \n",
      " 31  BsmtFinType1               1422 non-null   object \n",
      " 32  BsmtFinSF1                 1459 non-null   int64  \n",
      " 33  BsmtFinType2               1421 non-null   object \n",
      " 34  BsmtFinSF2                 1459 non-null   int64  \n",
      " 35  BsmtUnfSF                  1459 non-null   int64  \n",
      " 36  Total_Basement_Area        1459 non-null   int64  \n",
      " 37  Heating_Type               1459 non-null   object \n",
      " 38  Heating_Quality            1459 non-null   object \n",
      " 39  Air_Conditioning           1459 non-null   object \n",
      " 40  Electrical_System          1458 non-null   object \n",
      " 41  First_Floor_Area           1459 non-null   int64  \n",
      " 42  Second_Floor_Area          1459 non-null   int64  \n",
      " 43  LowQualFinSF               1459 non-null   int64  \n",
      " 44  Grade_Living_Area          1459 non-null   int64  \n",
      " 45  Underground_Full_Bathroom  1459 non-null   int64  \n",
      " 46  Underground_Half_Bathroom  1459 non-null   int64  \n",
      " 47  Full_Bathroom_Above_Grade  1459 non-null   int64  \n",
      " 48  Half_Bathroom_Above_Grade  1459 non-null   int64  \n",
      " 49  Bedroom_Above_Grade        1459 non-null   int64  \n",
      " 50  Kitchen_Above_Grade        1459 non-null   int64  \n",
      " 51  Kitchen_Quality            1459 non-null   object \n",
      " 52  Rooms_Above_Grade          1459 non-null   int64  \n",
      " 53  Functional_Rate            1459 non-null   object \n",
      " 54  Fireplaces                 1459 non-null   int64  \n",
      " 55  Fireplace_Quality          770 non-null    object \n",
      " 56  Garage                     1378 non-null   object \n",
      " 57  Garage_Built_Year          1378 non-null   float64\n",
      " 58  Garage_Finish_Year         1378 non-null   object \n",
      " 59  Garage_Size                1459 non-null   int64  \n",
      " 60  Garage_Area                1459 non-null   float64\n",
      " 61  Garage_Quality             1378 non-null   object \n",
      " 62  Garage_Condition           1378 non-null   object \n",
      " 63  Pavedd_Drive               1459 non-null   object \n",
      " 64  W_Deck_Area                1459 non-null   float64\n",
      " 65  Open_Lobby_Area            1459 non-null   float64\n",
      " 66  Enclosed_Lobby_Area        1459 non-null   float64\n",
      " 67  Three_Season_Lobby_Area    1459 non-null   int64  \n",
      " 68  Screen_Lobby_Area          1459 non-null   int64  \n",
      " 69  Pool_Area                  1459 non-null   int64  \n",
      " 70  Miscellaneous_Value        1459 non-null   int64  \n",
      " 71  Month_Sold                 1459 non-null   int64  \n",
      " 72  Year_Sold                  1459 non-null   int64  \n",
      " 73  Sale_Type                  1459 non-null   object \n",
      " 74  Sale_Condition             1459 non-null   object \n",
      " 75  Sale_Price                 1459 non-null   int64  \n",
      "dtypes: float64(7), int64(31), object(38)\n",
      "memory usage: 866.4+ KB\n"
     ]
    }
   ],
   "source": [
    "ppt.info()"
   ]
  },
  {
   "cell_type": "code",
   "execution_count": 23,
   "id": "83cce496-2e64-4fb7-ab54-ae4326673b21",
   "metadata": {},
   "outputs": [
    {
     "data": {
      "text/plain": [
       "Id                  0\n",
       "Building_Class      0\n",
       "Zoning_Class        0\n",
       "Lot_Extent        259\n",
       "Lot_Size            0\n",
       "                 ... \n",
       "Month_Sold          0\n",
       "Year_Sold           0\n",
       "Sale_Type           0\n",
       "Sale_Condition      0\n",
       "Sale_Price          0\n",
       "Length: 76, dtype: int64"
      ]
     },
     "execution_count": 23,
     "metadata": {},
     "output_type": "execute_result"
    }
   ],
   "source": [
    "ppt.isnull().sum()"
   ]
  },
  {
   "cell_type": "code",
   "execution_count": 25,
   "id": "a3d41ce6-e538-4e5a-8cf7-e5dbdd1b8606",
   "metadata": {},
   "outputs": [
    {
     "data": {
      "text/plain": [
       "Lot_Extent\n",
       "60.0     143\n",
       "70.0      70\n",
       "80.0      69\n",
       "50.0      57\n",
       "75.0      52\n",
       "        ... \n",
       "137.0      1\n",
       "141.0      1\n",
       "38.0       1\n",
       "140.0      1\n",
       "46.0       1\n",
       "Name: count, Length: 110, dtype: int64"
      ]
     },
     "execution_count": 25,
     "metadata": {},
     "output_type": "execute_result"
    }
   ],
   "source": [
    "ppt.Lot_Extent.value_counts()"
   ]
  },
  {
   "cell_type": "code",
   "execution_count": 27,
   "id": "8fe59591-23e2-4c9b-a126-1fbd70ab2825",
   "metadata": {},
   "outputs": [
    {
     "data": {
      "text/plain": [
       "array([ 65.,  80.,  68.,  60.,  84.,  85.,  75.,  nan,  51.,  50.,  70.,\n",
       "        91.,  72.,  66., 101.,  57.,  44., 110.,  98.,  47., 108., 112.,\n",
       "        74., 115.,  61.,  48.,  33.,  52., 100.,  24.,  89.,  63.,  76.,\n",
       "        81.,  95.,  69.,  21.,  32.,  78., 121., 122.,  40., 105.,  73.,\n",
       "        77.,  64.,  94.,  34.,  90.,  55.,  88.,  82.,  71., 120., 107.,\n",
       "        92., 134.,  62.,  86., 141.,  97.,  54.,  41.,  79., 174.,  99.,\n",
       "        67.,  83.,  43., 103.,  93.,  30., 129., 140.,  35.,  37., 118.,\n",
       "        87., 116., 150., 111.,  49.,  96.,  59.,  36.,  56., 102.,  58.,\n",
       "        38., 109., 130.,  53., 137.,  45., 106., 104.,  42.,  39., 144.,\n",
       "       114., 128., 149., 313., 168., 182., 138., 160., 152., 124., 153.,\n",
       "        46.])"
      ]
     },
     "execution_count": 27,
     "metadata": {},
     "output_type": "execute_result"
    }
   ],
   "source": [
    "ppt.Lot_Extent.unique()"
   ]
  },
  {
   "cell_type": "code",
   "execution_count": 29,
   "id": "b8cdd577-405f-4ecf-a214-aad342f3b726",
   "metadata": {},
   "outputs": [
    {
     "data": {
      "text/plain": [
       "70.04583333333333"
      ]
     },
     "execution_count": 29,
     "metadata": {},
     "output_type": "execute_result"
    }
   ],
   "source": [
    "ppt.Lot_Extent.mean()"
   ]
  },
  {
   "cell_type": "code",
   "execution_count": 31,
   "id": "375ca2cc-1d30-4b65-95dc-90ef4ef5d4ff",
   "metadata": {},
   "outputs": [],
   "source": [
    "ppt.Lot_Extent.fillna(ppt.Lot_Extent.mean(),inplace = True)"
   ]
  },
  {
   "cell_type": "code",
   "execution_count": 33,
   "id": "915a1091-241a-4031-9f98-221fe62ffa74",
   "metadata": {},
   "outputs": [
    {
     "name": "stdout",
     "output_type": "stream",
     "text": [
      "<class 'pandas.core.frame.DataFrame'>\n",
      "RangeIndex: 1459 entries, 0 to 1458\n",
      "Data columns (total 76 columns):\n",
      " #   Column                     Non-Null Count  Dtype  \n",
      "---  ------                     --------------  -----  \n",
      " 0   Id                         1459 non-null   int64  \n",
      " 1   Building_Class             1459 non-null   int64  \n",
      " 2   Zoning_Class               1459 non-null   object \n",
      " 3   Lot_Extent                 1459 non-null   float64\n",
      " 4   Lot_Size                   1459 non-null   int64  \n",
      " 5   Road_Type                  1459 non-null   object \n",
      " 6   Property_Shape             1459 non-null   object \n",
      " 7   Land_Outline               1459 non-null   object \n",
      " 8   Utility_Type               1459 non-null   object \n",
      " 9   Lot_Configuration          1459 non-null   object \n",
      " 10  Property_Slope             1459 non-null   object \n",
      " 11  Neighborhood               1459 non-null   object \n",
      " 12  Condition1                 1459 non-null   object \n",
      " 13  Condition2                 1459 non-null   object \n",
      " 14  House_Type                 1459 non-null   object \n",
      " 15  House_Design               1459 non-null   object \n",
      " 16  Overall_Material           1459 non-null   int64  \n",
      " 17  House_Condition            1459 non-null   int64  \n",
      " 18  Construction_Year          1459 non-null   int64  \n",
      " 19  Remodel_Year               1459 non-null   int64  \n",
      " 20  Roof_Design                1459 non-null   object \n",
      " 21  Roof_Quality               1459 non-null   object \n",
      " 22  Exterior1st                1459 non-null   object \n",
      " 23  Exterior2nd                1459 non-null   object \n",
      " 24  Brick_Veneer_Area          1451 non-null   float64\n",
      " 25  Exterior_Material          1459 non-null   object \n",
      " 26  Exterior_Condition         1459 non-null   object \n",
      " 27  Foundation_Type            1459 non-null   object \n",
      " 28  Basement_Height            1422 non-null   object \n",
      " 29  Basement_Condition         1422 non-null   object \n",
      " 30  Exposure_Level             1421 non-null   object \n",
      " 31  BsmtFinType1               1422 non-null   object \n",
      " 32  BsmtFinSF1                 1459 non-null   int64  \n",
      " 33  BsmtFinType2               1421 non-null   object \n",
      " 34  BsmtFinSF2                 1459 non-null   int64  \n",
      " 35  BsmtUnfSF                  1459 non-null   int64  \n",
      " 36  Total_Basement_Area        1459 non-null   int64  \n",
      " 37  Heating_Type               1459 non-null   object \n",
      " 38  Heating_Quality            1459 non-null   object \n",
      " 39  Air_Conditioning           1459 non-null   object \n",
      " 40  Electrical_System          1458 non-null   object \n",
      " 41  First_Floor_Area           1459 non-null   int64  \n",
      " 42  Second_Floor_Area          1459 non-null   int64  \n",
      " 43  LowQualFinSF               1459 non-null   int64  \n",
      " 44  Grade_Living_Area          1459 non-null   int64  \n",
      " 45  Underground_Full_Bathroom  1459 non-null   int64  \n",
      " 46  Underground_Half_Bathroom  1459 non-null   int64  \n",
      " 47  Full_Bathroom_Above_Grade  1459 non-null   int64  \n",
      " 48  Half_Bathroom_Above_Grade  1459 non-null   int64  \n",
      " 49  Bedroom_Above_Grade        1459 non-null   int64  \n",
      " 50  Kitchen_Above_Grade        1459 non-null   int64  \n",
      " 51  Kitchen_Quality            1459 non-null   object \n",
      " 52  Rooms_Above_Grade          1459 non-null   int64  \n",
      " 53  Functional_Rate            1459 non-null   object \n",
      " 54  Fireplaces                 1459 non-null   int64  \n",
      " 55  Fireplace_Quality          770 non-null    object \n",
      " 56  Garage                     1378 non-null   object \n",
      " 57  Garage_Built_Year          1378 non-null   float64\n",
      " 58  Garage_Finish_Year         1378 non-null   object \n",
      " 59  Garage_Size                1459 non-null   int64  \n",
      " 60  Garage_Area                1459 non-null   float64\n",
      " 61  Garage_Quality             1378 non-null   object \n",
      " 62  Garage_Condition           1378 non-null   object \n",
      " 63  Pavedd_Drive               1459 non-null   object \n",
      " 64  W_Deck_Area                1459 non-null   float64\n",
      " 65  Open_Lobby_Area            1459 non-null   float64\n",
      " 66  Enclosed_Lobby_Area        1459 non-null   float64\n",
      " 67  Three_Season_Lobby_Area    1459 non-null   int64  \n",
      " 68  Screen_Lobby_Area          1459 non-null   int64  \n",
      " 69  Pool_Area                  1459 non-null   int64  \n",
      " 70  Miscellaneous_Value        1459 non-null   int64  \n",
      " 71  Month_Sold                 1459 non-null   int64  \n",
      " 72  Year_Sold                  1459 non-null   int64  \n",
      " 73  Sale_Type                  1459 non-null   object \n",
      " 74  Sale_Condition             1459 non-null   object \n",
      " 75  Sale_Price                 1459 non-null   int64  \n",
      "dtypes: float64(7), int64(31), object(38)\n",
      "memory usage: 866.4+ KB\n"
     ]
    }
   ],
   "source": [
    "ppt.info()"
   ]
  },
  {
   "cell_type": "code",
   "execution_count": 35,
   "id": "1a21d37c-ed15-40e3-bf7d-6504ac17ee64",
   "metadata": {},
   "outputs": [
    {
     "data": {
      "text/plain": [
       "Basement_Height\n",
       "TA    648\n",
       "Gd    618\n",
       "Ex    121\n",
       "Fa     35\n",
       "Name: count, dtype: int64"
      ]
     },
     "execution_count": 35,
     "metadata": {},
     "output_type": "execute_result"
    }
   ],
   "source": [
    "ppt.Basement_Height.value_counts()"
   ]
  },
  {
   "cell_type": "code",
   "execution_count": 37,
   "id": "2e05ce03-8a10-4e05-b908-51401d02bd1b",
   "metadata": {},
   "outputs": [],
   "source": [
    "ppt.Basement_Height.fillna('TA',inplace=True)"
   ]
  },
  {
   "cell_type": "code",
   "execution_count": 39,
   "id": "7f304a13-14b5-4a92-8bca-d4d211422a32",
   "metadata": {},
   "outputs": [
    {
     "name": "stdout",
     "output_type": "stream",
     "text": [
      "<class 'pandas.core.frame.DataFrame'>\n",
      "RangeIndex: 1459 entries, 0 to 1458\n",
      "Data columns (total 76 columns):\n",
      " #   Column                     Non-Null Count  Dtype  \n",
      "---  ------                     --------------  -----  \n",
      " 0   Id                         1459 non-null   int64  \n",
      " 1   Building_Class             1459 non-null   int64  \n",
      " 2   Zoning_Class               1459 non-null   object \n",
      " 3   Lot_Extent                 1459 non-null   float64\n",
      " 4   Lot_Size                   1459 non-null   int64  \n",
      " 5   Road_Type                  1459 non-null   object \n",
      " 6   Property_Shape             1459 non-null   object \n",
      " 7   Land_Outline               1459 non-null   object \n",
      " 8   Utility_Type               1459 non-null   object \n",
      " 9   Lot_Configuration          1459 non-null   object \n",
      " 10  Property_Slope             1459 non-null   object \n",
      " 11  Neighborhood               1459 non-null   object \n",
      " 12  Condition1                 1459 non-null   object \n",
      " 13  Condition2                 1459 non-null   object \n",
      " 14  House_Type                 1459 non-null   object \n",
      " 15  House_Design               1459 non-null   object \n",
      " 16  Overall_Material           1459 non-null   int64  \n",
      " 17  House_Condition            1459 non-null   int64  \n",
      " 18  Construction_Year          1459 non-null   int64  \n",
      " 19  Remodel_Year               1459 non-null   int64  \n",
      " 20  Roof_Design                1459 non-null   object \n",
      " 21  Roof_Quality               1459 non-null   object \n",
      " 22  Exterior1st                1459 non-null   object \n",
      " 23  Exterior2nd                1459 non-null   object \n",
      " 24  Brick_Veneer_Area          1451 non-null   float64\n",
      " 25  Exterior_Material          1459 non-null   object \n",
      " 26  Exterior_Condition         1459 non-null   object \n",
      " 27  Foundation_Type            1459 non-null   object \n",
      " 28  Basement_Height            1459 non-null   object \n",
      " 29  Basement_Condition         1422 non-null   object \n",
      " 30  Exposure_Level             1421 non-null   object \n",
      " 31  BsmtFinType1               1422 non-null   object \n",
      " 32  BsmtFinSF1                 1459 non-null   int64  \n",
      " 33  BsmtFinType2               1421 non-null   object \n",
      " 34  BsmtFinSF2                 1459 non-null   int64  \n",
      " 35  BsmtUnfSF                  1459 non-null   int64  \n",
      " 36  Total_Basement_Area        1459 non-null   int64  \n",
      " 37  Heating_Type               1459 non-null   object \n",
      " 38  Heating_Quality            1459 non-null   object \n",
      " 39  Air_Conditioning           1459 non-null   object \n",
      " 40  Electrical_System          1458 non-null   object \n",
      " 41  First_Floor_Area           1459 non-null   int64  \n",
      " 42  Second_Floor_Area          1459 non-null   int64  \n",
      " 43  LowQualFinSF               1459 non-null   int64  \n",
      " 44  Grade_Living_Area          1459 non-null   int64  \n",
      " 45  Underground_Full_Bathroom  1459 non-null   int64  \n",
      " 46  Underground_Half_Bathroom  1459 non-null   int64  \n",
      " 47  Full_Bathroom_Above_Grade  1459 non-null   int64  \n",
      " 48  Half_Bathroom_Above_Grade  1459 non-null   int64  \n",
      " 49  Bedroom_Above_Grade        1459 non-null   int64  \n",
      " 50  Kitchen_Above_Grade        1459 non-null   int64  \n",
      " 51  Kitchen_Quality            1459 non-null   object \n",
      " 52  Rooms_Above_Grade          1459 non-null   int64  \n",
      " 53  Functional_Rate            1459 non-null   object \n",
      " 54  Fireplaces                 1459 non-null   int64  \n",
      " 55  Fireplace_Quality          770 non-null    object \n",
      " 56  Garage                     1378 non-null   object \n",
      " 57  Garage_Built_Year          1378 non-null   float64\n",
      " 58  Garage_Finish_Year         1378 non-null   object \n",
      " 59  Garage_Size                1459 non-null   int64  \n",
      " 60  Garage_Area                1459 non-null   float64\n",
      " 61  Garage_Quality             1378 non-null   object \n",
      " 62  Garage_Condition           1378 non-null   object \n",
      " 63  Pavedd_Drive               1459 non-null   object \n",
      " 64  W_Deck_Area                1459 non-null   float64\n",
      " 65  Open_Lobby_Area            1459 non-null   float64\n",
      " 66  Enclosed_Lobby_Area        1459 non-null   float64\n",
      " 67  Three_Season_Lobby_Area    1459 non-null   int64  \n",
      " 68  Screen_Lobby_Area          1459 non-null   int64  \n",
      " 69  Pool_Area                  1459 non-null   int64  \n",
      " 70  Miscellaneous_Value        1459 non-null   int64  \n",
      " 71  Month_Sold                 1459 non-null   int64  \n",
      " 72  Year_Sold                  1459 non-null   int64  \n",
      " 73  Sale_Type                  1459 non-null   object \n",
      " 74  Sale_Condition             1459 non-null   object \n",
      " 75  Sale_Price                 1459 non-null   int64  \n",
      "dtypes: float64(7), int64(31), object(38)\n",
      "memory usage: 866.4+ KB\n"
     ]
    }
   ],
   "source": [
    "ppt.info()"
   ]
  },
  {
   "cell_type": "code",
   "execution_count": 41,
   "id": "8b07d467-879b-4ccb-9f50-f9d988a34f6b",
   "metadata": {},
   "outputs": [],
   "source": [
    "ppt=ppt.drop('Fireplace_Quality',axis=1)"
   ]
  },
  {
   "cell_type": "code",
   "execution_count": 43,
   "id": "e4168ff5-5e7f-4efa-bbd6-e1f210ad3e51",
   "metadata": {},
   "outputs": [],
   "source": [
    "ppt.Basement_Condition.fillna('TA',inplace=True)"
   ]
  },
  {
   "cell_type": "code",
   "execution_count": 45,
   "id": "516cf144-d2c1-46f0-9693-09a84748ece9",
   "metadata": {},
   "outputs": [
    {
     "name": "stdout",
     "output_type": "stream",
     "text": [
      "<class 'pandas.core.frame.DataFrame'>\n",
      "RangeIndex: 1459 entries, 0 to 1458\n",
      "Data columns (total 75 columns):\n",
      " #   Column                     Non-Null Count  Dtype  \n",
      "---  ------                     --------------  -----  \n",
      " 0   Id                         1459 non-null   int64  \n",
      " 1   Building_Class             1459 non-null   int64  \n",
      " 2   Zoning_Class               1459 non-null   object \n",
      " 3   Lot_Extent                 1459 non-null   float64\n",
      " 4   Lot_Size                   1459 non-null   int64  \n",
      " 5   Road_Type                  1459 non-null   object \n",
      " 6   Property_Shape             1459 non-null   object \n",
      " 7   Land_Outline               1459 non-null   object \n",
      " 8   Utility_Type               1459 non-null   object \n",
      " 9   Lot_Configuration          1459 non-null   object \n",
      " 10  Property_Slope             1459 non-null   object \n",
      " 11  Neighborhood               1459 non-null   object \n",
      " 12  Condition1                 1459 non-null   object \n",
      " 13  Condition2                 1459 non-null   object \n",
      " 14  House_Type                 1459 non-null   object \n",
      " 15  House_Design               1459 non-null   object \n",
      " 16  Overall_Material           1459 non-null   int64  \n",
      " 17  House_Condition            1459 non-null   int64  \n",
      " 18  Construction_Year          1459 non-null   int64  \n",
      " 19  Remodel_Year               1459 non-null   int64  \n",
      " 20  Roof_Design                1459 non-null   object \n",
      " 21  Roof_Quality               1459 non-null   object \n",
      " 22  Exterior1st                1459 non-null   object \n",
      " 23  Exterior2nd                1459 non-null   object \n",
      " 24  Brick_Veneer_Area          1451 non-null   float64\n",
      " 25  Exterior_Material          1459 non-null   object \n",
      " 26  Exterior_Condition         1459 non-null   object \n",
      " 27  Foundation_Type            1459 non-null   object \n",
      " 28  Basement_Height            1459 non-null   object \n",
      " 29  Basement_Condition         1459 non-null   object \n",
      " 30  Exposure_Level             1421 non-null   object \n",
      " 31  BsmtFinType1               1422 non-null   object \n",
      " 32  BsmtFinSF1                 1459 non-null   int64  \n",
      " 33  BsmtFinType2               1421 non-null   object \n",
      " 34  BsmtFinSF2                 1459 non-null   int64  \n",
      " 35  BsmtUnfSF                  1459 non-null   int64  \n",
      " 36  Total_Basement_Area        1459 non-null   int64  \n",
      " 37  Heating_Type               1459 non-null   object \n",
      " 38  Heating_Quality            1459 non-null   object \n",
      " 39  Air_Conditioning           1459 non-null   object \n",
      " 40  Electrical_System          1458 non-null   object \n",
      " 41  First_Floor_Area           1459 non-null   int64  \n",
      " 42  Second_Floor_Area          1459 non-null   int64  \n",
      " 43  LowQualFinSF               1459 non-null   int64  \n",
      " 44  Grade_Living_Area          1459 non-null   int64  \n",
      " 45  Underground_Full_Bathroom  1459 non-null   int64  \n",
      " 46  Underground_Half_Bathroom  1459 non-null   int64  \n",
      " 47  Full_Bathroom_Above_Grade  1459 non-null   int64  \n",
      " 48  Half_Bathroom_Above_Grade  1459 non-null   int64  \n",
      " 49  Bedroom_Above_Grade        1459 non-null   int64  \n",
      " 50  Kitchen_Above_Grade        1459 non-null   int64  \n",
      " 51  Kitchen_Quality            1459 non-null   object \n",
      " 52  Rooms_Above_Grade          1459 non-null   int64  \n",
      " 53  Functional_Rate            1459 non-null   object \n",
      " 54  Fireplaces                 1459 non-null   int64  \n",
      " 55  Garage                     1378 non-null   object \n",
      " 56  Garage_Built_Year          1378 non-null   float64\n",
      " 57  Garage_Finish_Year         1378 non-null   object \n",
      " 58  Garage_Size                1459 non-null   int64  \n",
      " 59  Garage_Area                1459 non-null   float64\n",
      " 60  Garage_Quality             1378 non-null   object \n",
      " 61  Garage_Condition           1378 non-null   object \n",
      " 62  Pavedd_Drive               1459 non-null   object \n",
      " 63  W_Deck_Area                1459 non-null   float64\n",
      " 64  Open_Lobby_Area            1459 non-null   float64\n",
      " 65  Enclosed_Lobby_Area        1459 non-null   float64\n",
      " 66  Three_Season_Lobby_Area    1459 non-null   int64  \n",
      " 67  Screen_Lobby_Area          1459 non-null   int64  \n",
      " 68  Pool_Area                  1459 non-null   int64  \n",
      " 69  Miscellaneous_Value        1459 non-null   int64  \n",
      " 70  Month_Sold                 1459 non-null   int64  \n",
      " 71  Year_Sold                  1459 non-null   int64  \n",
      " 72  Sale_Type                  1459 non-null   object \n",
      " 73  Sale_Condition             1459 non-null   object \n",
      " 74  Sale_Price                 1459 non-null   int64  \n",
      "dtypes: float64(7), int64(31), object(37)\n",
      "memory usage: 855.0+ KB\n"
     ]
    }
   ],
   "source": [
    "ppt.info()"
   ]
  },
  {
   "cell_type": "code",
   "execution_count": 47,
   "id": "2a592661-946e-4b5c-a99f-b5112856427b",
   "metadata": {},
   "outputs": [
    {
     "data": {
      "text/plain": [
       "Exposure_Level\n",
       "No    952\n",
       "Av    221\n",
       "Gd    134\n",
       "Mn    114\n",
       "Name: count, dtype: int64"
      ]
     },
     "execution_count": 47,
     "metadata": {},
     "output_type": "execute_result"
    }
   ],
   "source": [
    "ppt.Exposure_Level.value_counts()"
   ]
  },
  {
   "cell_type": "code",
   "execution_count": 49,
   "id": "1716d2b7-dbdf-4abb-bec7-9e15db21461d",
   "metadata": {},
   "outputs": [],
   "source": [
    "ppt.Exposure_Level.fillna('No',inplace=True)"
   ]
  },
  {
   "cell_type": "code",
   "execution_count": 51,
   "id": "7f3c062f-00a3-4c51-89e3-ab242f96a80f",
   "metadata": {},
   "outputs": [
    {
     "name": "stdout",
     "output_type": "stream",
     "text": [
      "<class 'pandas.core.frame.DataFrame'>\n",
      "RangeIndex: 1459 entries, 0 to 1458\n",
      "Data columns (total 75 columns):\n",
      " #   Column                     Non-Null Count  Dtype  \n",
      "---  ------                     --------------  -----  \n",
      " 0   Id                         1459 non-null   int64  \n",
      " 1   Building_Class             1459 non-null   int64  \n",
      " 2   Zoning_Class               1459 non-null   object \n",
      " 3   Lot_Extent                 1459 non-null   float64\n",
      " 4   Lot_Size                   1459 non-null   int64  \n",
      " 5   Road_Type                  1459 non-null   object \n",
      " 6   Property_Shape             1459 non-null   object \n",
      " 7   Land_Outline               1459 non-null   object \n",
      " 8   Utility_Type               1459 non-null   object \n",
      " 9   Lot_Configuration          1459 non-null   object \n",
      " 10  Property_Slope             1459 non-null   object \n",
      " 11  Neighborhood               1459 non-null   object \n",
      " 12  Condition1                 1459 non-null   object \n",
      " 13  Condition2                 1459 non-null   object \n",
      " 14  House_Type                 1459 non-null   object \n",
      " 15  House_Design               1459 non-null   object \n",
      " 16  Overall_Material           1459 non-null   int64  \n",
      " 17  House_Condition            1459 non-null   int64  \n",
      " 18  Construction_Year          1459 non-null   int64  \n",
      " 19  Remodel_Year               1459 non-null   int64  \n",
      " 20  Roof_Design                1459 non-null   object \n",
      " 21  Roof_Quality               1459 non-null   object \n",
      " 22  Exterior1st                1459 non-null   object \n",
      " 23  Exterior2nd                1459 non-null   object \n",
      " 24  Brick_Veneer_Area          1451 non-null   float64\n",
      " 25  Exterior_Material          1459 non-null   object \n",
      " 26  Exterior_Condition         1459 non-null   object \n",
      " 27  Foundation_Type            1459 non-null   object \n",
      " 28  Basement_Height            1459 non-null   object \n",
      " 29  Basement_Condition         1459 non-null   object \n",
      " 30  Exposure_Level             1459 non-null   object \n",
      " 31  BsmtFinType1               1422 non-null   object \n",
      " 32  BsmtFinSF1                 1459 non-null   int64  \n",
      " 33  BsmtFinType2               1421 non-null   object \n",
      " 34  BsmtFinSF2                 1459 non-null   int64  \n",
      " 35  BsmtUnfSF                  1459 non-null   int64  \n",
      " 36  Total_Basement_Area        1459 non-null   int64  \n",
      " 37  Heating_Type               1459 non-null   object \n",
      " 38  Heating_Quality            1459 non-null   object \n",
      " 39  Air_Conditioning           1459 non-null   object \n",
      " 40  Electrical_System          1458 non-null   object \n",
      " 41  First_Floor_Area           1459 non-null   int64  \n",
      " 42  Second_Floor_Area          1459 non-null   int64  \n",
      " 43  LowQualFinSF               1459 non-null   int64  \n",
      " 44  Grade_Living_Area          1459 non-null   int64  \n",
      " 45  Underground_Full_Bathroom  1459 non-null   int64  \n",
      " 46  Underground_Half_Bathroom  1459 non-null   int64  \n",
      " 47  Full_Bathroom_Above_Grade  1459 non-null   int64  \n",
      " 48  Half_Bathroom_Above_Grade  1459 non-null   int64  \n",
      " 49  Bedroom_Above_Grade        1459 non-null   int64  \n",
      " 50  Kitchen_Above_Grade        1459 non-null   int64  \n",
      " 51  Kitchen_Quality            1459 non-null   object \n",
      " 52  Rooms_Above_Grade          1459 non-null   int64  \n",
      " 53  Functional_Rate            1459 non-null   object \n",
      " 54  Fireplaces                 1459 non-null   int64  \n",
      " 55  Garage                     1378 non-null   object \n",
      " 56  Garage_Built_Year          1378 non-null   float64\n",
      " 57  Garage_Finish_Year         1378 non-null   object \n",
      " 58  Garage_Size                1459 non-null   int64  \n",
      " 59  Garage_Area                1459 non-null   float64\n",
      " 60  Garage_Quality             1378 non-null   object \n",
      " 61  Garage_Condition           1378 non-null   object \n",
      " 62  Pavedd_Drive               1459 non-null   object \n",
      " 63  W_Deck_Area                1459 non-null   float64\n",
      " 64  Open_Lobby_Area            1459 non-null   float64\n",
      " 65  Enclosed_Lobby_Area        1459 non-null   float64\n",
      " 66  Three_Season_Lobby_Area    1459 non-null   int64  \n",
      " 67  Screen_Lobby_Area          1459 non-null   int64  \n",
      " 68  Pool_Area                  1459 non-null   int64  \n",
      " 69  Miscellaneous_Value        1459 non-null   int64  \n",
      " 70  Month_Sold                 1459 non-null   int64  \n",
      " 71  Year_Sold                  1459 non-null   int64  \n",
      " 72  Sale_Type                  1459 non-null   object \n",
      " 73  Sale_Condition             1459 non-null   object \n",
      " 74  Sale_Price                 1459 non-null   int64  \n",
      "dtypes: float64(7), int64(31), object(37)\n",
      "memory usage: 855.0+ KB\n"
     ]
    }
   ],
   "source": [
    "ppt.info()"
   ]
  },
  {
   "cell_type": "code",
   "execution_count": 53,
   "id": "6a82cf92-b381-4c8a-9654-54202228e4c1",
   "metadata": {},
   "outputs": [
    {
     "data": {
      "text/plain": [
       "Garage\n",
       "Attchd     869\n",
       "Detchd     387\n",
       "BuiltIn     88\n",
       "Basment     19\n",
       "CarPort      9\n",
       "2TFes        5\n",
       "2Types       1\n",
       "Name: count, dtype: int64"
      ]
     },
     "execution_count": 53,
     "metadata": {},
     "output_type": "execute_result"
    }
   ],
   "source": [
    "ppt.Garage.value_counts()"
   ]
  },
  {
   "cell_type": "code",
   "execution_count": 55,
   "id": "a3ca455e-e7ae-45a2-a17c-d31c24634836",
   "metadata": {},
   "outputs": [],
   "source": [
    "ppt.Garage.fillna('Attchd',inplace=True)"
   ]
  },
  {
   "cell_type": "code",
   "execution_count": 57,
   "id": "3743e3be-b599-4782-92e5-84b7ab12fbe0",
   "metadata": {},
   "outputs": [
    {
     "name": "stdout",
     "output_type": "stream",
     "text": [
      "<class 'pandas.core.frame.DataFrame'>\n",
      "RangeIndex: 1459 entries, 0 to 1458\n",
      "Data columns (total 75 columns):\n",
      " #   Column                     Non-Null Count  Dtype  \n",
      "---  ------                     --------------  -----  \n",
      " 0   Id                         1459 non-null   int64  \n",
      " 1   Building_Class             1459 non-null   int64  \n",
      " 2   Zoning_Class               1459 non-null   object \n",
      " 3   Lot_Extent                 1459 non-null   float64\n",
      " 4   Lot_Size                   1459 non-null   int64  \n",
      " 5   Road_Type                  1459 non-null   object \n",
      " 6   Property_Shape             1459 non-null   object \n",
      " 7   Land_Outline               1459 non-null   object \n",
      " 8   Utility_Type               1459 non-null   object \n",
      " 9   Lot_Configuration          1459 non-null   object \n",
      " 10  Property_Slope             1459 non-null   object \n",
      " 11  Neighborhood               1459 non-null   object \n",
      " 12  Condition1                 1459 non-null   object \n",
      " 13  Condition2                 1459 non-null   object \n",
      " 14  House_Type                 1459 non-null   object \n",
      " 15  House_Design               1459 non-null   object \n",
      " 16  Overall_Material           1459 non-null   int64  \n",
      " 17  House_Condition            1459 non-null   int64  \n",
      " 18  Construction_Year          1459 non-null   int64  \n",
      " 19  Remodel_Year               1459 non-null   int64  \n",
      " 20  Roof_Design                1459 non-null   object \n",
      " 21  Roof_Quality               1459 non-null   object \n",
      " 22  Exterior1st                1459 non-null   object \n",
      " 23  Exterior2nd                1459 non-null   object \n",
      " 24  Brick_Veneer_Area          1451 non-null   float64\n",
      " 25  Exterior_Material          1459 non-null   object \n",
      " 26  Exterior_Condition         1459 non-null   object \n",
      " 27  Foundation_Type            1459 non-null   object \n",
      " 28  Basement_Height            1459 non-null   object \n",
      " 29  Basement_Condition         1459 non-null   object \n",
      " 30  Exposure_Level             1459 non-null   object \n",
      " 31  BsmtFinType1               1422 non-null   object \n",
      " 32  BsmtFinSF1                 1459 non-null   int64  \n",
      " 33  BsmtFinType2               1421 non-null   object \n",
      " 34  BsmtFinSF2                 1459 non-null   int64  \n",
      " 35  BsmtUnfSF                  1459 non-null   int64  \n",
      " 36  Total_Basement_Area        1459 non-null   int64  \n",
      " 37  Heating_Type               1459 non-null   object \n",
      " 38  Heating_Quality            1459 non-null   object \n",
      " 39  Air_Conditioning           1459 non-null   object \n",
      " 40  Electrical_System          1458 non-null   object \n",
      " 41  First_Floor_Area           1459 non-null   int64  \n",
      " 42  Second_Floor_Area          1459 non-null   int64  \n",
      " 43  LowQualFinSF               1459 non-null   int64  \n",
      " 44  Grade_Living_Area          1459 non-null   int64  \n",
      " 45  Underground_Full_Bathroom  1459 non-null   int64  \n",
      " 46  Underground_Half_Bathroom  1459 non-null   int64  \n",
      " 47  Full_Bathroom_Above_Grade  1459 non-null   int64  \n",
      " 48  Half_Bathroom_Above_Grade  1459 non-null   int64  \n",
      " 49  Bedroom_Above_Grade        1459 non-null   int64  \n",
      " 50  Kitchen_Above_Grade        1459 non-null   int64  \n",
      " 51  Kitchen_Quality            1459 non-null   object \n",
      " 52  Rooms_Above_Grade          1459 non-null   int64  \n",
      " 53  Functional_Rate            1459 non-null   object \n",
      " 54  Fireplaces                 1459 non-null   int64  \n",
      " 55  Garage                     1459 non-null   object \n",
      " 56  Garage_Built_Year          1378 non-null   float64\n",
      " 57  Garage_Finish_Year         1378 non-null   object \n",
      " 58  Garage_Size                1459 non-null   int64  \n",
      " 59  Garage_Area                1459 non-null   float64\n",
      " 60  Garage_Quality             1378 non-null   object \n",
      " 61  Garage_Condition           1378 non-null   object \n",
      " 62  Pavedd_Drive               1459 non-null   object \n",
      " 63  W_Deck_Area                1459 non-null   float64\n",
      " 64  Open_Lobby_Area            1459 non-null   float64\n",
      " 65  Enclosed_Lobby_Area        1459 non-null   float64\n",
      " 66  Three_Season_Lobby_Area    1459 non-null   int64  \n",
      " 67  Screen_Lobby_Area          1459 non-null   int64  \n",
      " 68  Pool_Area                  1459 non-null   int64  \n",
      " 69  Miscellaneous_Value        1459 non-null   int64  \n",
      " 70  Month_Sold                 1459 non-null   int64  \n",
      " 71  Year_Sold                  1459 non-null   int64  \n",
      " 72  Sale_Type                  1459 non-null   object \n",
      " 73  Sale_Condition             1459 non-null   object \n",
      " 74  Sale_Price                 1459 non-null   int64  \n",
      "dtypes: float64(7), int64(31), object(37)\n",
      "memory usage: 855.0+ KB\n"
     ]
    }
   ],
   "source": [
    "ppt.info()"
   ]
  },
  {
   "cell_type": "code",
   "execution_count": 59,
   "id": "08a4151f-b6ff-4406-9be4-c17eafefc2f0",
   "metadata": {},
   "outputs": [
    {
     "data": {
      "text/plain": [
       "Brick_Veneer_Area\n",
       "0.0      860\n",
       "180.0      8\n",
       "72.0       8\n",
       "108.0      8\n",
       "120.0      7\n",
       "        ... \n",
       "562.0      1\n",
       "89.0       1\n",
       "921.0      1\n",
       "762.0      1\n",
       "119.0      1\n",
       "Name: count, Length: 327, dtype: int64"
      ]
     },
     "execution_count": 59,
     "metadata": {},
     "output_type": "execute_result"
    }
   ],
   "source": [
    "ppt.Brick_Veneer_Area.value_counts()"
   ]
  },
  {
   "cell_type": "code",
   "execution_count": 61,
   "id": "8287b73b-24a5-46b5-876a-fcef94e58b28",
   "metadata": {},
   "outputs": [
    {
     "name": "stderr",
     "output_type": "stream",
     "text": [
      "/var/folders/q6/cwgjcsz54q31rwmftrxq2dhw0000gn/T/ipykernel_10410/4293547995.py:1: FutureWarning: Setting an item of incompatible dtype is deprecated and will raise in a future error of pandas. Value '0' has dtype incompatible with float64, please explicitly cast to a compatible dtype first.\n",
      "  ppt.Brick_Veneer_Area.fillna('0',inplace=True)\n"
     ]
    }
   ],
   "source": [
    "ppt.Brick_Veneer_Area.fillna('0',inplace=True)"
   ]
  },
  {
   "cell_type": "code",
   "execution_count": 63,
   "id": "9806c574-fd64-4eba-a952-46ca9401a06e",
   "metadata": {},
   "outputs": [
    {
     "name": "stdout",
     "output_type": "stream",
     "text": [
      "<class 'pandas.core.frame.DataFrame'>\n",
      "RangeIndex: 1459 entries, 0 to 1458\n",
      "Data columns (total 75 columns):\n",
      " #   Column                     Non-Null Count  Dtype  \n",
      "---  ------                     --------------  -----  \n",
      " 0   Id                         1459 non-null   int64  \n",
      " 1   Building_Class             1459 non-null   int64  \n",
      " 2   Zoning_Class               1459 non-null   object \n",
      " 3   Lot_Extent                 1459 non-null   float64\n",
      " 4   Lot_Size                   1459 non-null   int64  \n",
      " 5   Road_Type                  1459 non-null   object \n",
      " 6   Property_Shape             1459 non-null   object \n",
      " 7   Land_Outline               1459 non-null   object \n",
      " 8   Utility_Type               1459 non-null   object \n",
      " 9   Lot_Configuration          1459 non-null   object \n",
      " 10  Property_Slope             1459 non-null   object \n",
      " 11  Neighborhood               1459 non-null   object \n",
      " 12  Condition1                 1459 non-null   object \n",
      " 13  Condition2                 1459 non-null   object \n",
      " 14  House_Type                 1459 non-null   object \n",
      " 15  House_Design               1459 non-null   object \n",
      " 16  Overall_Material           1459 non-null   int64  \n",
      " 17  House_Condition            1459 non-null   int64  \n",
      " 18  Construction_Year          1459 non-null   int64  \n",
      " 19  Remodel_Year               1459 non-null   int64  \n",
      " 20  Roof_Design                1459 non-null   object \n",
      " 21  Roof_Quality               1459 non-null   object \n",
      " 22  Exterior1st                1459 non-null   object \n",
      " 23  Exterior2nd                1459 non-null   object \n",
      " 24  Brick_Veneer_Area          1459 non-null   object \n",
      " 25  Exterior_Material          1459 non-null   object \n",
      " 26  Exterior_Condition         1459 non-null   object \n",
      " 27  Foundation_Type            1459 non-null   object \n",
      " 28  Basement_Height            1459 non-null   object \n",
      " 29  Basement_Condition         1459 non-null   object \n",
      " 30  Exposure_Level             1459 non-null   object \n",
      " 31  BsmtFinType1               1422 non-null   object \n",
      " 32  BsmtFinSF1                 1459 non-null   int64  \n",
      " 33  BsmtFinType2               1421 non-null   object \n",
      " 34  BsmtFinSF2                 1459 non-null   int64  \n",
      " 35  BsmtUnfSF                  1459 non-null   int64  \n",
      " 36  Total_Basement_Area        1459 non-null   int64  \n",
      " 37  Heating_Type               1459 non-null   object \n",
      " 38  Heating_Quality            1459 non-null   object \n",
      " 39  Air_Conditioning           1459 non-null   object \n",
      " 40  Electrical_System          1458 non-null   object \n",
      " 41  First_Floor_Area           1459 non-null   int64  \n",
      " 42  Second_Floor_Area          1459 non-null   int64  \n",
      " 43  LowQualFinSF               1459 non-null   int64  \n",
      " 44  Grade_Living_Area          1459 non-null   int64  \n",
      " 45  Underground_Full_Bathroom  1459 non-null   int64  \n",
      " 46  Underground_Half_Bathroom  1459 non-null   int64  \n",
      " 47  Full_Bathroom_Above_Grade  1459 non-null   int64  \n",
      " 48  Half_Bathroom_Above_Grade  1459 non-null   int64  \n",
      " 49  Bedroom_Above_Grade        1459 non-null   int64  \n",
      " 50  Kitchen_Above_Grade        1459 non-null   int64  \n",
      " 51  Kitchen_Quality            1459 non-null   object \n",
      " 52  Rooms_Above_Grade          1459 non-null   int64  \n",
      " 53  Functional_Rate            1459 non-null   object \n",
      " 54  Fireplaces                 1459 non-null   int64  \n",
      " 55  Garage                     1459 non-null   object \n",
      " 56  Garage_Built_Year          1378 non-null   float64\n",
      " 57  Garage_Finish_Year         1378 non-null   object \n",
      " 58  Garage_Size                1459 non-null   int64  \n",
      " 59  Garage_Area                1459 non-null   float64\n",
      " 60  Garage_Quality             1378 non-null   object \n",
      " 61  Garage_Condition           1378 non-null   object \n",
      " 62  Pavedd_Drive               1459 non-null   object \n",
      " 63  W_Deck_Area                1459 non-null   float64\n",
      " 64  Open_Lobby_Area            1459 non-null   float64\n",
      " 65  Enclosed_Lobby_Area        1459 non-null   float64\n",
      " 66  Three_Season_Lobby_Area    1459 non-null   int64  \n",
      " 67  Screen_Lobby_Area          1459 non-null   int64  \n",
      " 68  Pool_Area                  1459 non-null   int64  \n",
      " 69  Miscellaneous_Value        1459 non-null   int64  \n",
      " 70  Month_Sold                 1459 non-null   int64  \n",
      " 71  Year_Sold                  1459 non-null   int64  \n",
      " 72  Sale_Type                  1459 non-null   object \n",
      " 73  Sale_Condition             1459 non-null   object \n",
      " 74  Sale_Price                 1459 non-null   int64  \n",
      "dtypes: float64(6), int64(31), object(38)\n",
      "memory usage: 855.0+ KB\n"
     ]
    }
   ],
   "source": [
    "ppt.info()"
   ]
  },
  {
   "cell_type": "code",
   "execution_count": 65,
   "id": "43e5ff03-932d-493d-9e11-112236eac344",
   "metadata": {},
   "outputs": [
    {
     "data": {
      "text/plain": [
       "BsmtFinType1\n",
       "Unf    430\n",
       "GLQ    418\n",
       "ALQ    220\n",
       "BLQ    147\n",
       "Rec    133\n",
       "LwQ     74\n",
       "Name: count, dtype: int64"
      ]
     },
     "execution_count": 65,
     "metadata": {},
     "output_type": "execute_result"
    }
   ],
   "source": [
    "ppt.BsmtFinType1.value_counts()"
   ]
  },
  {
   "cell_type": "code",
   "execution_count": 67,
   "id": "fdadcf5d-2e9f-4cc0-85d1-51197187a626",
   "metadata": {},
   "outputs": [],
   "source": [
    "ppt.BsmtFinType1.fillna('Unf',inplace=True)"
   ]
  },
  {
   "cell_type": "code",
   "execution_count": 69,
   "id": "b2ec0664-8994-42b6-ad87-2b9b6cbb484d",
   "metadata": {},
   "outputs": [
    {
     "name": "stdout",
     "output_type": "stream",
     "text": [
      "<class 'pandas.core.frame.DataFrame'>\n",
      "RangeIndex: 1459 entries, 0 to 1458\n",
      "Data columns (total 75 columns):\n",
      " #   Column                     Non-Null Count  Dtype  \n",
      "---  ------                     --------------  -----  \n",
      " 0   Id                         1459 non-null   int64  \n",
      " 1   Building_Class             1459 non-null   int64  \n",
      " 2   Zoning_Class               1459 non-null   object \n",
      " 3   Lot_Extent                 1459 non-null   float64\n",
      " 4   Lot_Size                   1459 non-null   int64  \n",
      " 5   Road_Type                  1459 non-null   object \n",
      " 6   Property_Shape             1459 non-null   object \n",
      " 7   Land_Outline               1459 non-null   object \n",
      " 8   Utility_Type               1459 non-null   object \n",
      " 9   Lot_Configuration          1459 non-null   object \n",
      " 10  Property_Slope             1459 non-null   object \n",
      " 11  Neighborhood               1459 non-null   object \n",
      " 12  Condition1                 1459 non-null   object \n",
      " 13  Condition2                 1459 non-null   object \n",
      " 14  House_Type                 1459 non-null   object \n",
      " 15  House_Design               1459 non-null   object \n",
      " 16  Overall_Material           1459 non-null   int64  \n",
      " 17  House_Condition            1459 non-null   int64  \n",
      " 18  Construction_Year          1459 non-null   int64  \n",
      " 19  Remodel_Year               1459 non-null   int64  \n",
      " 20  Roof_Design                1459 non-null   object \n",
      " 21  Roof_Quality               1459 non-null   object \n",
      " 22  Exterior1st                1459 non-null   object \n",
      " 23  Exterior2nd                1459 non-null   object \n",
      " 24  Brick_Veneer_Area          1459 non-null   object \n",
      " 25  Exterior_Material          1459 non-null   object \n",
      " 26  Exterior_Condition         1459 non-null   object \n",
      " 27  Foundation_Type            1459 non-null   object \n",
      " 28  Basement_Height            1459 non-null   object \n",
      " 29  Basement_Condition         1459 non-null   object \n",
      " 30  Exposure_Level             1459 non-null   object \n",
      " 31  BsmtFinType1               1459 non-null   object \n",
      " 32  BsmtFinSF1                 1459 non-null   int64  \n",
      " 33  BsmtFinType2               1421 non-null   object \n",
      " 34  BsmtFinSF2                 1459 non-null   int64  \n",
      " 35  BsmtUnfSF                  1459 non-null   int64  \n",
      " 36  Total_Basement_Area        1459 non-null   int64  \n",
      " 37  Heating_Type               1459 non-null   object \n",
      " 38  Heating_Quality            1459 non-null   object \n",
      " 39  Air_Conditioning           1459 non-null   object \n",
      " 40  Electrical_System          1458 non-null   object \n",
      " 41  First_Floor_Area           1459 non-null   int64  \n",
      " 42  Second_Floor_Area          1459 non-null   int64  \n",
      " 43  LowQualFinSF               1459 non-null   int64  \n",
      " 44  Grade_Living_Area          1459 non-null   int64  \n",
      " 45  Underground_Full_Bathroom  1459 non-null   int64  \n",
      " 46  Underground_Half_Bathroom  1459 non-null   int64  \n",
      " 47  Full_Bathroom_Above_Grade  1459 non-null   int64  \n",
      " 48  Half_Bathroom_Above_Grade  1459 non-null   int64  \n",
      " 49  Bedroom_Above_Grade        1459 non-null   int64  \n",
      " 50  Kitchen_Above_Grade        1459 non-null   int64  \n",
      " 51  Kitchen_Quality            1459 non-null   object \n",
      " 52  Rooms_Above_Grade          1459 non-null   int64  \n",
      " 53  Functional_Rate            1459 non-null   object \n",
      " 54  Fireplaces                 1459 non-null   int64  \n",
      " 55  Garage                     1459 non-null   object \n",
      " 56  Garage_Built_Year          1378 non-null   float64\n",
      " 57  Garage_Finish_Year         1378 non-null   object \n",
      " 58  Garage_Size                1459 non-null   int64  \n",
      " 59  Garage_Area                1459 non-null   float64\n",
      " 60  Garage_Quality             1378 non-null   object \n",
      " 61  Garage_Condition           1378 non-null   object \n",
      " 62  Pavedd_Drive               1459 non-null   object \n",
      " 63  W_Deck_Area                1459 non-null   float64\n",
      " 64  Open_Lobby_Area            1459 non-null   float64\n",
      " 65  Enclosed_Lobby_Area        1459 non-null   float64\n",
      " 66  Three_Season_Lobby_Area    1459 non-null   int64  \n",
      " 67  Screen_Lobby_Area          1459 non-null   int64  \n",
      " 68  Pool_Area                  1459 non-null   int64  \n",
      " 69  Miscellaneous_Value        1459 non-null   int64  \n",
      " 70  Month_Sold                 1459 non-null   int64  \n",
      " 71  Year_Sold                  1459 non-null   int64  \n",
      " 72  Sale_Type                  1459 non-null   object \n",
      " 73  Sale_Condition             1459 non-null   object \n",
      " 74  Sale_Price                 1459 non-null   int64  \n",
      "dtypes: float64(6), int64(31), object(38)\n",
      "memory usage: 855.0+ KB\n"
     ]
    }
   ],
   "source": [
    "ppt.info()"
   ]
  },
  {
   "cell_type": "code",
   "execution_count": 71,
   "id": "72dc8d33-6be8-4e11-9af6-f249220d9db2",
   "metadata": {},
   "outputs": [
    {
     "data": {
      "text/plain": [
       "BsmtFinType2\n",
       "Unf    1256\n",
       "Rec      54\n",
       "LwQ      45\n",
       "BLQ      33\n",
       "ALQ      19\n",
       "GLQ      14\n",
       "Name: count, dtype: int64"
      ]
     },
     "execution_count": 71,
     "metadata": {},
     "output_type": "execute_result"
    }
   ],
   "source": [
    "ppt.BsmtFinType2.value_counts()"
   ]
  },
  {
   "cell_type": "code",
   "execution_count": 73,
   "id": "f26b8823-f871-4c69-b58d-22ca691d414f",
   "metadata": {},
   "outputs": [],
   "source": [
    "ppt.BsmtFinType2.fillna('Unf',inplace=True)"
   ]
  },
  {
   "cell_type": "code",
   "execution_count": 75,
   "id": "62c25bb9-a3f6-4f11-bd4d-3e7f5995be09",
   "metadata": {},
   "outputs": [
    {
     "name": "stdout",
     "output_type": "stream",
     "text": [
      "<class 'pandas.core.frame.DataFrame'>\n",
      "RangeIndex: 1459 entries, 0 to 1458\n",
      "Data columns (total 75 columns):\n",
      " #   Column                     Non-Null Count  Dtype  \n",
      "---  ------                     --------------  -----  \n",
      " 0   Id                         1459 non-null   int64  \n",
      " 1   Building_Class             1459 non-null   int64  \n",
      " 2   Zoning_Class               1459 non-null   object \n",
      " 3   Lot_Extent                 1459 non-null   float64\n",
      " 4   Lot_Size                   1459 non-null   int64  \n",
      " 5   Road_Type                  1459 non-null   object \n",
      " 6   Property_Shape             1459 non-null   object \n",
      " 7   Land_Outline               1459 non-null   object \n",
      " 8   Utility_Type               1459 non-null   object \n",
      " 9   Lot_Configuration          1459 non-null   object \n",
      " 10  Property_Slope             1459 non-null   object \n",
      " 11  Neighborhood               1459 non-null   object \n",
      " 12  Condition1                 1459 non-null   object \n",
      " 13  Condition2                 1459 non-null   object \n",
      " 14  House_Type                 1459 non-null   object \n",
      " 15  House_Design               1459 non-null   object \n",
      " 16  Overall_Material           1459 non-null   int64  \n",
      " 17  House_Condition            1459 non-null   int64  \n",
      " 18  Construction_Year          1459 non-null   int64  \n",
      " 19  Remodel_Year               1459 non-null   int64  \n",
      " 20  Roof_Design                1459 non-null   object \n",
      " 21  Roof_Quality               1459 non-null   object \n",
      " 22  Exterior1st                1459 non-null   object \n",
      " 23  Exterior2nd                1459 non-null   object \n",
      " 24  Brick_Veneer_Area          1459 non-null   object \n",
      " 25  Exterior_Material          1459 non-null   object \n",
      " 26  Exterior_Condition         1459 non-null   object \n",
      " 27  Foundation_Type            1459 non-null   object \n",
      " 28  Basement_Height            1459 non-null   object \n",
      " 29  Basement_Condition         1459 non-null   object \n",
      " 30  Exposure_Level             1459 non-null   object \n",
      " 31  BsmtFinType1               1459 non-null   object \n",
      " 32  BsmtFinSF1                 1459 non-null   int64  \n",
      " 33  BsmtFinType2               1459 non-null   object \n",
      " 34  BsmtFinSF2                 1459 non-null   int64  \n",
      " 35  BsmtUnfSF                  1459 non-null   int64  \n",
      " 36  Total_Basement_Area        1459 non-null   int64  \n",
      " 37  Heating_Type               1459 non-null   object \n",
      " 38  Heating_Quality            1459 non-null   object \n",
      " 39  Air_Conditioning           1459 non-null   object \n",
      " 40  Electrical_System          1458 non-null   object \n",
      " 41  First_Floor_Area           1459 non-null   int64  \n",
      " 42  Second_Floor_Area          1459 non-null   int64  \n",
      " 43  LowQualFinSF               1459 non-null   int64  \n",
      " 44  Grade_Living_Area          1459 non-null   int64  \n",
      " 45  Underground_Full_Bathroom  1459 non-null   int64  \n",
      " 46  Underground_Half_Bathroom  1459 non-null   int64  \n",
      " 47  Full_Bathroom_Above_Grade  1459 non-null   int64  \n",
      " 48  Half_Bathroom_Above_Grade  1459 non-null   int64  \n",
      " 49  Bedroom_Above_Grade        1459 non-null   int64  \n",
      " 50  Kitchen_Above_Grade        1459 non-null   int64  \n",
      " 51  Kitchen_Quality            1459 non-null   object \n",
      " 52  Rooms_Above_Grade          1459 non-null   int64  \n",
      " 53  Functional_Rate            1459 non-null   object \n",
      " 54  Fireplaces                 1459 non-null   int64  \n",
      " 55  Garage                     1459 non-null   object \n",
      " 56  Garage_Built_Year          1378 non-null   float64\n",
      " 57  Garage_Finish_Year         1378 non-null   object \n",
      " 58  Garage_Size                1459 non-null   int64  \n",
      " 59  Garage_Area                1459 non-null   float64\n",
      " 60  Garage_Quality             1378 non-null   object \n",
      " 61  Garage_Condition           1378 non-null   object \n",
      " 62  Pavedd_Drive               1459 non-null   object \n",
      " 63  W_Deck_Area                1459 non-null   float64\n",
      " 64  Open_Lobby_Area            1459 non-null   float64\n",
      " 65  Enclosed_Lobby_Area        1459 non-null   float64\n",
      " 66  Three_Season_Lobby_Area    1459 non-null   int64  \n",
      " 67  Screen_Lobby_Area          1459 non-null   int64  \n",
      " 68  Pool_Area                  1459 non-null   int64  \n",
      " 69  Miscellaneous_Value        1459 non-null   int64  \n",
      " 70  Month_Sold                 1459 non-null   int64  \n",
      " 71  Year_Sold                  1459 non-null   int64  \n",
      " 72  Sale_Type                  1459 non-null   object \n",
      " 73  Sale_Condition             1459 non-null   object \n",
      " 74  Sale_Price                 1459 non-null   int64  \n",
      "dtypes: float64(6), int64(31), object(38)\n",
      "memory usage: 855.0+ KB\n"
     ]
    }
   ],
   "source": [
    "ppt.info()"
   ]
  },
  {
   "cell_type": "code",
   "execution_count": 77,
   "id": "43516f77-7add-40d5-94ab-96cdf0b97cfa",
   "metadata": {},
   "outputs": [
    {
     "data": {
      "text/plain": [
       "Garage_Built_Year\n",
       "2005.0    65\n",
       "2006.0    59\n",
       "2004.0    53\n",
       "2003.0    50\n",
       "2007.0    49\n",
       "          ..\n",
       "1927.0     1\n",
       "1900.0     1\n",
       "1906.0     1\n",
       "1908.0     1\n",
       "1933.0     1\n",
       "Name: count, Length: 97, dtype: int64"
      ]
     },
     "execution_count": 77,
     "metadata": {},
     "output_type": "execute_result"
    }
   ],
   "source": [
    "ppt.Garage_Built_Year.value_counts()"
   ]
  },
  {
   "cell_type": "code",
   "execution_count": 79,
   "id": "15305ea7-9cbb-435c-89be-f50206335c35",
   "metadata": {},
   "outputs": [
    {
     "data": {
      "text/plain": [
       "Construction_Year\n",
       "2006    67\n",
       "2005    64\n",
       "2004    54\n",
       "2007    49\n",
       "2003    45\n",
       "        ..\n",
       "1875     1\n",
       "1911     1\n",
       "1917     1\n",
       "1872     1\n",
       "1905     1\n",
       "Name: count, Length: 112, dtype: int64"
      ]
     },
     "execution_count": 79,
     "metadata": {},
     "output_type": "execute_result"
    }
   ],
   "source": [
    "ppt.Construction_Year.value_counts()"
   ]
  },
  {
   "cell_type": "code",
   "execution_count": 81,
   "id": "515dd2c7-cff0-4694-874e-819a7def5632",
   "metadata": {},
   "outputs": [],
   "source": [
    "ppt['Garage_Built_Year'] = ppt['Garage_Built_Year'].fillna(ppt['Construction_Year'])"
   ]
  },
  {
   "cell_type": "code",
   "execution_count": 83,
   "id": "db915b39-30d8-4e42-906b-31ff969e026b",
   "metadata": {},
   "outputs": [
    {
     "data": {
      "text/plain": [
       "Garage_Built_Year\n",
       "2005.0    65\n",
       "2006.0    60\n",
       "2004.0    54\n",
       "2003.0    50\n",
       "2007.0    50\n",
       "          ..\n",
       "1875.0     1\n",
       "1911.0     1\n",
       "1919.0     1\n",
       "1872.0     1\n",
       "1933.0     1\n",
       "Name: count, Length: 102, dtype: int64"
      ]
     },
     "execution_count": 83,
     "metadata": {},
     "output_type": "execute_result"
    }
   ],
   "source": [
    "ppt.Garage_Built_Year.value_counts()"
   ]
  },
  {
   "cell_type": "code",
   "execution_count": 85,
   "id": "7fa40572-8504-4972-b6a3-7f9ccb350d4c",
   "metadata": {},
   "outputs": [
    {
     "name": "stdout",
     "output_type": "stream",
     "text": [
      "<class 'pandas.core.frame.DataFrame'>\n",
      "RangeIndex: 1459 entries, 0 to 1458\n",
      "Data columns (total 75 columns):\n",
      " #   Column                     Non-Null Count  Dtype  \n",
      "---  ------                     --------------  -----  \n",
      " 0   Id                         1459 non-null   int64  \n",
      " 1   Building_Class             1459 non-null   int64  \n",
      " 2   Zoning_Class               1459 non-null   object \n",
      " 3   Lot_Extent                 1459 non-null   float64\n",
      " 4   Lot_Size                   1459 non-null   int64  \n",
      " 5   Road_Type                  1459 non-null   object \n",
      " 6   Property_Shape             1459 non-null   object \n",
      " 7   Land_Outline               1459 non-null   object \n",
      " 8   Utility_Type               1459 non-null   object \n",
      " 9   Lot_Configuration          1459 non-null   object \n",
      " 10  Property_Slope             1459 non-null   object \n",
      " 11  Neighborhood               1459 non-null   object \n",
      " 12  Condition1                 1459 non-null   object \n",
      " 13  Condition2                 1459 non-null   object \n",
      " 14  House_Type                 1459 non-null   object \n",
      " 15  House_Design               1459 non-null   object \n",
      " 16  Overall_Material           1459 non-null   int64  \n",
      " 17  House_Condition            1459 non-null   int64  \n",
      " 18  Construction_Year          1459 non-null   int64  \n",
      " 19  Remodel_Year               1459 non-null   int64  \n",
      " 20  Roof_Design                1459 non-null   object \n",
      " 21  Roof_Quality               1459 non-null   object \n",
      " 22  Exterior1st                1459 non-null   object \n",
      " 23  Exterior2nd                1459 non-null   object \n",
      " 24  Brick_Veneer_Area          1459 non-null   object \n",
      " 25  Exterior_Material          1459 non-null   object \n",
      " 26  Exterior_Condition         1459 non-null   object \n",
      " 27  Foundation_Type            1459 non-null   object \n",
      " 28  Basement_Height            1459 non-null   object \n",
      " 29  Basement_Condition         1459 non-null   object \n",
      " 30  Exposure_Level             1459 non-null   object \n",
      " 31  BsmtFinType1               1459 non-null   object \n",
      " 32  BsmtFinSF1                 1459 non-null   int64  \n",
      " 33  BsmtFinType2               1459 non-null   object \n",
      " 34  BsmtFinSF2                 1459 non-null   int64  \n",
      " 35  BsmtUnfSF                  1459 non-null   int64  \n",
      " 36  Total_Basement_Area        1459 non-null   int64  \n",
      " 37  Heating_Type               1459 non-null   object \n",
      " 38  Heating_Quality            1459 non-null   object \n",
      " 39  Air_Conditioning           1459 non-null   object \n",
      " 40  Electrical_System          1458 non-null   object \n",
      " 41  First_Floor_Area           1459 non-null   int64  \n",
      " 42  Second_Floor_Area          1459 non-null   int64  \n",
      " 43  LowQualFinSF               1459 non-null   int64  \n",
      " 44  Grade_Living_Area          1459 non-null   int64  \n",
      " 45  Underground_Full_Bathroom  1459 non-null   int64  \n",
      " 46  Underground_Half_Bathroom  1459 non-null   int64  \n",
      " 47  Full_Bathroom_Above_Grade  1459 non-null   int64  \n",
      " 48  Half_Bathroom_Above_Grade  1459 non-null   int64  \n",
      " 49  Bedroom_Above_Grade        1459 non-null   int64  \n",
      " 50  Kitchen_Above_Grade        1459 non-null   int64  \n",
      " 51  Kitchen_Quality            1459 non-null   object \n",
      " 52  Rooms_Above_Grade          1459 non-null   int64  \n",
      " 53  Functional_Rate            1459 non-null   object \n",
      " 54  Fireplaces                 1459 non-null   int64  \n",
      " 55  Garage                     1459 non-null   object \n",
      " 56  Garage_Built_Year          1459 non-null   float64\n",
      " 57  Garage_Finish_Year         1378 non-null   object \n",
      " 58  Garage_Size                1459 non-null   int64  \n",
      " 59  Garage_Area                1459 non-null   float64\n",
      " 60  Garage_Quality             1378 non-null   object \n",
      " 61  Garage_Condition           1378 non-null   object \n",
      " 62  Pavedd_Drive               1459 non-null   object \n",
      " 63  W_Deck_Area                1459 non-null   float64\n",
      " 64  Open_Lobby_Area            1459 non-null   float64\n",
      " 65  Enclosed_Lobby_Area        1459 non-null   float64\n",
      " 66  Three_Season_Lobby_Area    1459 non-null   int64  \n",
      " 67  Screen_Lobby_Area          1459 non-null   int64  \n",
      " 68  Pool_Area                  1459 non-null   int64  \n",
      " 69  Miscellaneous_Value        1459 non-null   int64  \n",
      " 70  Month_Sold                 1459 non-null   int64  \n",
      " 71  Year_Sold                  1459 non-null   int64  \n",
      " 72  Sale_Type                  1459 non-null   object \n",
      " 73  Sale_Condition             1459 non-null   object \n",
      " 74  Sale_Price                 1459 non-null   int64  \n",
      "dtypes: float64(6), int64(31), object(38)\n",
      "memory usage: 855.0+ KB\n"
     ]
    }
   ],
   "source": [
    "ppt.info()"
   ]
  },
  {
   "cell_type": "code",
   "execution_count": 87,
   "id": "d5bb68a5-9465-4a15-a175-b710fbf29121",
   "metadata": {},
   "outputs": [
    {
     "data": {
      "text/html": [
       "<div>\n",
       "<style scoped>\n",
       "    .dataframe tbody tr th:only-of-type {\n",
       "        vertical-align: middle;\n",
       "    }\n",
       "\n",
       "    .dataframe tbody tr th {\n",
       "        vertical-align: top;\n",
       "    }\n",
       "\n",
       "    .dataframe thead th {\n",
       "        text-align: right;\n",
       "    }\n",
       "</style>\n",
       "<table border=\"1\" class=\"dataframe\">\n",
       "  <thead>\n",
       "    <tr style=\"text-align: right;\">\n",
       "      <th></th>\n",
       "      <th>Garage_Built_Year</th>\n",
       "      <th>Construction_Year</th>\n",
       "    </tr>\n",
       "  </thead>\n",
       "  <tbody>\n",
       "    <tr>\n",
       "      <th>0</th>\n",
       "      <td>2003.0</td>\n",
       "      <td>2003</td>\n",
       "    </tr>\n",
       "    <tr>\n",
       "      <th>1</th>\n",
       "      <td>1976.0</td>\n",
       "      <td>1976</td>\n",
       "    </tr>\n",
       "    <tr>\n",
       "      <th>3</th>\n",
       "      <td>1998.0</td>\n",
       "      <td>1915</td>\n",
       "    </tr>\n",
       "    <tr>\n",
       "      <th>4</th>\n",
       "      <td>2000.0</td>\n",
       "      <td>2000</td>\n",
       "    </tr>\n",
       "    <tr>\n",
       "      <th>5</th>\n",
       "      <td>1993.0</td>\n",
       "      <td>1993</td>\n",
       "    </tr>\n",
       "    <tr>\n",
       "      <th>6</th>\n",
       "      <td>2004.0</td>\n",
       "      <td>2004</td>\n",
       "    </tr>\n",
       "    <tr>\n",
       "      <th>7</th>\n",
       "      <td>1973.0</td>\n",
       "      <td>1973</td>\n",
       "    </tr>\n",
       "    <tr>\n",
       "      <th>8</th>\n",
       "      <td>1931.0</td>\n",
       "      <td>1931</td>\n",
       "    </tr>\n",
       "    <tr>\n",
       "      <th>10</th>\n",
       "      <td>1965.0</td>\n",
       "      <td>1965</td>\n",
       "    </tr>\n",
       "    <tr>\n",
       "      <th>1125</th>\n",
       "      <td>1977.0</td>\n",
       "      <td>1955</td>\n",
       "    </tr>\n",
       "  </tbody>\n",
       "</table>\n",
       "</div>"
      ],
      "text/plain": [
       "      Garage_Built_Year  Construction_Year\n",
       "0                2003.0               2003\n",
       "1                1976.0               1976\n",
       "3                1998.0               1915\n",
       "4                2000.0               2000\n",
       "5                1993.0               1993\n",
       "6                2004.0               2004\n",
       "7                1973.0               1973\n",
       "8                1931.0               1931\n",
       "10               1965.0               1965\n",
       "1125             1977.0               1955"
      ]
     },
     "execution_count": 87,
     "metadata": {},
     "output_type": "execute_result"
    }
   ],
   "source": [
    "ppt.loc[[0,1,3,4,5,6,7,8,10,1125],['Garage_Built_Year','Construction_Year']]"
   ]
  },
  {
   "cell_type": "code",
   "execution_count": 89,
   "id": "c635b0ff-8df0-42f5-a2fb-fd781891436c",
   "metadata": {},
   "outputs": [
    {
     "data": {
      "text/plain": [
       "Garage_Finish_Year\n",
       "Unf    605\n",
       "RFn    422\n",
       "Fin    351\n",
       "Name: count, dtype: int64"
      ]
     },
     "execution_count": 89,
     "metadata": {},
     "output_type": "execute_result"
    }
   ],
   "source": [
    "ppt.Garage_Finish_Year.value_counts()"
   ]
  },
  {
   "cell_type": "code",
   "execution_count": 91,
   "id": "12d1aa48-8b74-434c-bf64-c76f7d8919c7",
   "metadata": {},
   "outputs": [],
   "source": [
    "ppt.Garage_Finish_Year.fillna('Unf',inplace=True)"
   ]
  },
  {
   "cell_type": "code",
   "execution_count": 93,
   "id": "c1cbd034-f275-4208-8b5e-cf03d1b031ab",
   "metadata": {},
   "outputs": [
    {
     "name": "stdout",
     "output_type": "stream",
     "text": [
      "<class 'pandas.core.frame.DataFrame'>\n",
      "RangeIndex: 1459 entries, 0 to 1458\n",
      "Data columns (total 75 columns):\n",
      " #   Column                     Non-Null Count  Dtype  \n",
      "---  ------                     --------------  -----  \n",
      " 0   Id                         1459 non-null   int64  \n",
      " 1   Building_Class             1459 non-null   int64  \n",
      " 2   Zoning_Class               1459 non-null   object \n",
      " 3   Lot_Extent                 1459 non-null   float64\n",
      " 4   Lot_Size                   1459 non-null   int64  \n",
      " 5   Road_Type                  1459 non-null   object \n",
      " 6   Property_Shape             1459 non-null   object \n",
      " 7   Land_Outline               1459 non-null   object \n",
      " 8   Utility_Type               1459 non-null   object \n",
      " 9   Lot_Configuration          1459 non-null   object \n",
      " 10  Property_Slope             1459 non-null   object \n",
      " 11  Neighborhood               1459 non-null   object \n",
      " 12  Condition1                 1459 non-null   object \n",
      " 13  Condition2                 1459 non-null   object \n",
      " 14  House_Type                 1459 non-null   object \n",
      " 15  House_Design               1459 non-null   object \n",
      " 16  Overall_Material           1459 non-null   int64  \n",
      " 17  House_Condition            1459 non-null   int64  \n",
      " 18  Construction_Year          1459 non-null   int64  \n",
      " 19  Remodel_Year               1459 non-null   int64  \n",
      " 20  Roof_Design                1459 non-null   object \n",
      " 21  Roof_Quality               1459 non-null   object \n",
      " 22  Exterior1st                1459 non-null   object \n",
      " 23  Exterior2nd                1459 non-null   object \n",
      " 24  Brick_Veneer_Area          1459 non-null   object \n",
      " 25  Exterior_Material          1459 non-null   object \n",
      " 26  Exterior_Condition         1459 non-null   object \n",
      " 27  Foundation_Type            1459 non-null   object \n",
      " 28  Basement_Height            1459 non-null   object \n",
      " 29  Basement_Condition         1459 non-null   object \n",
      " 30  Exposure_Level             1459 non-null   object \n",
      " 31  BsmtFinType1               1459 non-null   object \n",
      " 32  BsmtFinSF1                 1459 non-null   int64  \n",
      " 33  BsmtFinType2               1459 non-null   object \n",
      " 34  BsmtFinSF2                 1459 non-null   int64  \n",
      " 35  BsmtUnfSF                  1459 non-null   int64  \n",
      " 36  Total_Basement_Area        1459 non-null   int64  \n",
      " 37  Heating_Type               1459 non-null   object \n",
      " 38  Heating_Quality            1459 non-null   object \n",
      " 39  Air_Conditioning           1459 non-null   object \n",
      " 40  Electrical_System          1458 non-null   object \n",
      " 41  First_Floor_Area           1459 non-null   int64  \n",
      " 42  Second_Floor_Area          1459 non-null   int64  \n",
      " 43  LowQualFinSF               1459 non-null   int64  \n",
      " 44  Grade_Living_Area          1459 non-null   int64  \n",
      " 45  Underground_Full_Bathroom  1459 non-null   int64  \n",
      " 46  Underground_Half_Bathroom  1459 non-null   int64  \n",
      " 47  Full_Bathroom_Above_Grade  1459 non-null   int64  \n",
      " 48  Half_Bathroom_Above_Grade  1459 non-null   int64  \n",
      " 49  Bedroom_Above_Grade        1459 non-null   int64  \n",
      " 50  Kitchen_Above_Grade        1459 non-null   int64  \n",
      " 51  Kitchen_Quality            1459 non-null   object \n",
      " 52  Rooms_Above_Grade          1459 non-null   int64  \n",
      " 53  Functional_Rate            1459 non-null   object \n",
      " 54  Fireplaces                 1459 non-null   int64  \n",
      " 55  Garage                     1459 non-null   object \n",
      " 56  Garage_Built_Year          1459 non-null   float64\n",
      " 57  Garage_Finish_Year         1459 non-null   object \n",
      " 58  Garage_Size                1459 non-null   int64  \n",
      " 59  Garage_Area                1459 non-null   float64\n",
      " 60  Garage_Quality             1378 non-null   object \n",
      " 61  Garage_Condition           1378 non-null   object \n",
      " 62  Pavedd_Drive               1459 non-null   object \n",
      " 63  W_Deck_Area                1459 non-null   float64\n",
      " 64  Open_Lobby_Area            1459 non-null   float64\n",
      " 65  Enclosed_Lobby_Area        1459 non-null   float64\n",
      " 66  Three_Season_Lobby_Area    1459 non-null   int64  \n",
      " 67  Screen_Lobby_Area          1459 non-null   int64  \n",
      " 68  Pool_Area                  1459 non-null   int64  \n",
      " 69  Miscellaneous_Value        1459 non-null   int64  \n",
      " 70  Month_Sold                 1459 non-null   int64  \n",
      " 71  Year_Sold                  1459 non-null   int64  \n",
      " 72  Sale_Type                  1459 non-null   object \n",
      " 73  Sale_Condition             1459 non-null   object \n",
      " 74  Sale_Price                 1459 non-null   int64  \n",
      "dtypes: float64(6), int64(31), object(38)\n",
      "memory usage: 855.0+ KB\n"
     ]
    }
   ],
   "source": [
    "ppt.info()"
   ]
  },
  {
   "cell_type": "code",
   "execution_count": 95,
   "id": "70fd8491-3916-4cc0-9874-41a45edad003",
   "metadata": {},
   "outputs": [
    {
     "data": {
      "text/plain": [
       "Electrical_System\n",
       "SBrkr    1333\n",
       "FuseA      94\n",
       "FuseF      27\n",
       "FuseP       3\n",
       "Mix         1\n",
       "Name: count, dtype: int64"
      ]
     },
     "execution_count": 95,
     "metadata": {},
     "output_type": "execute_result"
    }
   ],
   "source": [
    "ppt.Electrical_System.value_counts()"
   ]
  },
  {
   "cell_type": "code",
   "execution_count": 97,
   "id": "6ac455ad-f541-4745-adb3-c1af3a9ac106",
   "metadata": {},
   "outputs": [],
   "source": [
    "ppt.Electrical_System.fillna('SBrkr',inplace=True)"
   ]
  },
  {
   "cell_type": "code",
   "execution_count": 99,
   "id": "23a9eded-27ce-4951-8387-673f7de86f20",
   "metadata": {},
   "outputs": [
    {
     "name": "stdout",
     "output_type": "stream",
     "text": [
      "<class 'pandas.core.frame.DataFrame'>\n",
      "RangeIndex: 1459 entries, 0 to 1458\n",
      "Data columns (total 75 columns):\n",
      " #   Column                     Non-Null Count  Dtype  \n",
      "---  ------                     --------------  -----  \n",
      " 0   Id                         1459 non-null   int64  \n",
      " 1   Building_Class             1459 non-null   int64  \n",
      " 2   Zoning_Class               1459 non-null   object \n",
      " 3   Lot_Extent                 1459 non-null   float64\n",
      " 4   Lot_Size                   1459 non-null   int64  \n",
      " 5   Road_Type                  1459 non-null   object \n",
      " 6   Property_Shape             1459 non-null   object \n",
      " 7   Land_Outline               1459 non-null   object \n",
      " 8   Utility_Type               1459 non-null   object \n",
      " 9   Lot_Configuration          1459 non-null   object \n",
      " 10  Property_Slope             1459 non-null   object \n",
      " 11  Neighborhood               1459 non-null   object \n",
      " 12  Condition1                 1459 non-null   object \n",
      " 13  Condition2                 1459 non-null   object \n",
      " 14  House_Type                 1459 non-null   object \n",
      " 15  House_Design               1459 non-null   object \n",
      " 16  Overall_Material           1459 non-null   int64  \n",
      " 17  House_Condition            1459 non-null   int64  \n",
      " 18  Construction_Year          1459 non-null   int64  \n",
      " 19  Remodel_Year               1459 non-null   int64  \n",
      " 20  Roof_Design                1459 non-null   object \n",
      " 21  Roof_Quality               1459 non-null   object \n",
      " 22  Exterior1st                1459 non-null   object \n",
      " 23  Exterior2nd                1459 non-null   object \n",
      " 24  Brick_Veneer_Area          1459 non-null   object \n",
      " 25  Exterior_Material          1459 non-null   object \n",
      " 26  Exterior_Condition         1459 non-null   object \n",
      " 27  Foundation_Type            1459 non-null   object \n",
      " 28  Basement_Height            1459 non-null   object \n",
      " 29  Basement_Condition         1459 non-null   object \n",
      " 30  Exposure_Level             1459 non-null   object \n",
      " 31  BsmtFinType1               1459 non-null   object \n",
      " 32  BsmtFinSF1                 1459 non-null   int64  \n",
      " 33  BsmtFinType2               1459 non-null   object \n",
      " 34  BsmtFinSF2                 1459 non-null   int64  \n",
      " 35  BsmtUnfSF                  1459 non-null   int64  \n",
      " 36  Total_Basement_Area        1459 non-null   int64  \n",
      " 37  Heating_Type               1459 non-null   object \n",
      " 38  Heating_Quality            1459 non-null   object \n",
      " 39  Air_Conditioning           1459 non-null   object \n",
      " 40  Electrical_System          1459 non-null   object \n",
      " 41  First_Floor_Area           1459 non-null   int64  \n",
      " 42  Second_Floor_Area          1459 non-null   int64  \n",
      " 43  LowQualFinSF               1459 non-null   int64  \n",
      " 44  Grade_Living_Area          1459 non-null   int64  \n",
      " 45  Underground_Full_Bathroom  1459 non-null   int64  \n",
      " 46  Underground_Half_Bathroom  1459 non-null   int64  \n",
      " 47  Full_Bathroom_Above_Grade  1459 non-null   int64  \n",
      " 48  Half_Bathroom_Above_Grade  1459 non-null   int64  \n",
      " 49  Bedroom_Above_Grade        1459 non-null   int64  \n",
      " 50  Kitchen_Above_Grade        1459 non-null   int64  \n",
      " 51  Kitchen_Quality            1459 non-null   object \n",
      " 52  Rooms_Above_Grade          1459 non-null   int64  \n",
      " 53  Functional_Rate            1459 non-null   object \n",
      " 54  Fireplaces                 1459 non-null   int64  \n",
      " 55  Garage                     1459 non-null   object \n",
      " 56  Garage_Built_Year          1459 non-null   float64\n",
      " 57  Garage_Finish_Year         1459 non-null   object \n",
      " 58  Garage_Size                1459 non-null   int64  \n",
      " 59  Garage_Area                1459 non-null   float64\n",
      " 60  Garage_Quality             1378 non-null   object \n",
      " 61  Garage_Condition           1378 non-null   object \n",
      " 62  Pavedd_Drive               1459 non-null   object \n",
      " 63  W_Deck_Area                1459 non-null   float64\n",
      " 64  Open_Lobby_Area            1459 non-null   float64\n",
      " 65  Enclosed_Lobby_Area        1459 non-null   float64\n",
      " 66  Three_Season_Lobby_Area    1459 non-null   int64  \n",
      " 67  Screen_Lobby_Area          1459 non-null   int64  \n",
      " 68  Pool_Area                  1459 non-null   int64  \n",
      " 69  Miscellaneous_Value        1459 non-null   int64  \n",
      " 70  Month_Sold                 1459 non-null   int64  \n",
      " 71  Year_Sold                  1459 non-null   int64  \n",
      " 72  Sale_Type                  1459 non-null   object \n",
      " 73  Sale_Condition             1459 non-null   object \n",
      " 74  Sale_Price                 1459 non-null   int64  \n",
      "dtypes: float64(6), int64(31), object(38)\n",
      "memory usage: 855.0+ KB\n"
     ]
    }
   ],
   "source": [
    "ppt.info()"
   ]
  },
  {
   "cell_type": "code",
   "execution_count": 101,
   "id": "966364b9-dd92-4c5d-87d3-fc14126116e1",
   "metadata": {},
   "outputs": [
    {
     "data": {
      "text/plain": [
       "Garage_Condition\n",
       "TA    1325\n",
       "Fa      35\n",
       "Gd       9\n",
       "Po       7\n",
       "Ex       2\n",
       "Name: count, dtype: int64"
      ]
     },
     "execution_count": 101,
     "metadata": {},
     "output_type": "execute_result"
    }
   ],
   "source": [
    "ppt.Garage_Condition.value_counts()"
   ]
  },
  {
   "cell_type": "code",
   "execution_count": 103,
   "id": "a11dcea9-e3ad-4f58-9a9e-0d5eff5f72a3",
   "metadata": {},
   "outputs": [],
   "source": [
    "ppt.Garage_Condition.fillna('TA',inplace=True)"
   ]
  },
  {
   "cell_type": "code",
   "execution_count": 105,
   "id": "8d394114-065d-4c47-9182-c5e54f7f5e36",
   "metadata": {},
   "outputs": [
    {
     "data": {
      "text/plain": [
       "Garage_Condition\n",
       "TA    1406\n",
       "Fa      35\n",
       "Gd       9\n",
       "Po       7\n",
       "Ex       2\n",
       "Name: count, dtype: int64"
      ]
     },
     "execution_count": 105,
     "metadata": {},
     "output_type": "execute_result"
    }
   ],
   "source": [
    "ppt.Garage_Condition.value_counts()"
   ]
  },
  {
   "cell_type": "code",
   "execution_count": 107,
   "id": "4238257f-a76d-4dd4-8538-4d5c43792c2d",
   "metadata": {},
   "outputs": [
    {
     "name": "stderr",
     "output_type": "stream",
     "text": [
      "/var/folders/q6/cwgjcsz54q31rwmftrxq2dhw0000gn/T/ipykernel_10410/1281727040.py:1: FutureWarning: Series.replace without 'value' and with non-dict-like 'to_replace' is deprecated and will raise in a future version. Explicitly specify the new values instead.\n",
      "  ppt.Garage_Condition.replace({'TA'})\n"
     ]
    },
    {
     "data": {
      "text/plain": [
       "0       TA\n",
       "1       TA\n",
       "2       TA\n",
       "3       TA\n",
       "4       TA\n",
       "        ..\n",
       "1454    TA\n",
       "1455    TA\n",
       "1456    TA\n",
       "1457    TA\n",
       "1458    TA\n",
       "Name: Garage_Condition, Length: 1459, dtype: object"
      ]
     },
     "execution_count": 107,
     "metadata": {},
     "output_type": "execute_result"
    }
   ],
   "source": []
  },
  {
   "cell_type": "code",
   "execution_count": 124,
   "id": "d2af0f8e-c533-47ad-8736-37387d2d77f2",
   "metadata": {},
   "outputs": [
    {
     "data": {
      "text/plain": [
       "Series([], dtype: int64)"
      ]
     },
     "execution_count": 124,
     "metadata": {},
     "output_type": "execute_result"
    }
   ],
   "source": [
    "ppt.isnull().sum()[ppt.isnull().sum()>0]"
   ]
  },
  {
   "cell_type": "code",
   "execution_count": 122,
   "id": "70b97bd0-d936-4d66-9cba-8edd6cc97b38",
   "metadata": {},
   "outputs": [],
   "source": [
    "ppt.Garage_Quality.fillna('TA',inplace=True)"
   ]
  },
  {
   "cell_type": "code",
   "execution_count": 126,
   "id": "b7391bee-fd3d-497c-971d-c0a51e158e5d",
   "metadata": {},
   "outputs": [
    {
     "name": "stdout",
     "output_type": "stream",
     "text": [
      "<class 'pandas.core.frame.DataFrame'>\n",
      "RangeIndex: 1459 entries, 0 to 1458\n",
      "Data columns (total 75 columns):\n",
      " #   Column                     Non-Null Count  Dtype  \n",
      "---  ------                     --------------  -----  \n",
      " 0   Id                         1459 non-null   int64  \n",
      " 1   Building_Class             1459 non-null   int64  \n",
      " 2   Zoning_Class               1459 non-null   object \n",
      " 3   Lot_Extent                 1459 non-null   float64\n",
      " 4   Lot_Size                   1459 non-null   int64  \n",
      " 5   Road_Type                  1459 non-null   object \n",
      " 6   Property_Shape             1459 non-null   object \n",
      " 7   Land_Outline               1459 non-null   object \n",
      " 8   Utility_Type               1459 non-null   object \n",
      " 9   Lot_Configuration          1459 non-null   object \n",
      " 10  Property_Slope             1459 non-null   object \n",
      " 11  Neighborhood               1459 non-null   object \n",
      " 12  Condition1                 1459 non-null   object \n",
      " 13  Condition2                 1459 non-null   object \n",
      " 14  House_Type                 1459 non-null   object \n",
      " 15  House_Design               1459 non-null   object \n",
      " 16  Overall_Material           1459 non-null   int64  \n",
      " 17  House_Condition            1459 non-null   int64  \n",
      " 18  Construction_Year          1459 non-null   int64  \n",
      " 19  Remodel_Year               1459 non-null   int64  \n",
      " 20  Roof_Design                1459 non-null   object \n",
      " 21  Roof_Quality               1459 non-null   object \n",
      " 22  Exterior1st                1459 non-null   object \n",
      " 23  Exterior2nd                1459 non-null   object \n",
      " 24  Brick_Veneer_Area          1459 non-null   object \n",
      " 25  Exterior_Material          1459 non-null   object \n",
      " 26  Exterior_Condition         1459 non-null   object \n",
      " 27  Foundation_Type            1459 non-null   object \n",
      " 28  Basement_Height            1459 non-null   object \n",
      " 29  Basement_Condition         1459 non-null   object \n",
      " 30  Exposure_Level             1459 non-null   object \n",
      " 31  BsmtFinType1               1459 non-null   object \n",
      " 32  BsmtFinSF1                 1459 non-null   int64  \n",
      " 33  BsmtFinType2               1459 non-null   object \n",
      " 34  BsmtFinSF2                 1459 non-null   int64  \n",
      " 35  BsmtUnfSF                  1459 non-null   int64  \n",
      " 36  Total_Basement_Area        1459 non-null   int64  \n",
      " 37  Heating_Type               1459 non-null   object \n",
      " 38  Heating_Quality            1459 non-null   object \n",
      " 39  Air_Conditioning           1459 non-null   object \n",
      " 40  Electrical_System          1459 non-null   object \n",
      " 41  First_Floor_Area           1459 non-null   int64  \n",
      " 42  Second_Floor_Area          1459 non-null   int64  \n",
      " 43  LowQualFinSF               1459 non-null   int64  \n",
      " 44  Grade_Living_Area          1459 non-null   int64  \n",
      " 45  Underground_Full_Bathroom  1459 non-null   int64  \n",
      " 46  Underground_Half_Bathroom  1459 non-null   int64  \n",
      " 47  Full_Bathroom_Above_Grade  1459 non-null   int64  \n",
      " 48  Half_Bathroom_Above_Grade  1459 non-null   int64  \n",
      " 49  Bedroom_Above_Grade        1459 non-null   int64  \n",
      " 50  Kitchen_Above_Grade        1459 non-null   int64  \n",
      " 51  Kitchen_Quality            1459 non-null   object \n",
      " 52  Rooms_Above_Grade          1459 non-null   int64  \n",
      " 53  Functional_Rate            1459 non-null   object \n",
      " 54  Fireplaces                 1459 non-null   int64  \n",
      " 55  Garage                     1459 non-null   object \n",
      " 56  Garage_Built_Year          1459 non-null   float64\n",
      " 57  Garage_Finish_Year         1459 non-null   object \n",
      " 58  Garage_Size                1459 non-null   int64  \n",
      " 59  Garage_Area                1459 non-null   float64\n",
      " 60  Garage_Quality             1459 non-null   object \n",
      " 61  Garage_Condition           1459 non-null   object \n",
      " 62  Pavedd_Drive               1459 non-null   object \n",
      " 63  W_Deck_Area                1459 non-null   float64\n",
      " 64  Open_Lobby_Area            1459 non-null   float64\n",
      " 65  Enclosed_Lobby_Area        1459 non-null   float64\n",
      " 66  Three_Season_Lobby_Area    1459 non-null   int64  \n",
      " 67  Screen_Lobby_Area          1459 non-null   int64  \n",
      " 68  Pool_Area                  1459 non-null   int64  \n",
      " 69  Miscellaneous_Value        1459 non-null   int64  \n",
      " 70  Month_Sold                 1459 non-null   int64  \n",
      " 71  Year_Sold                  1459 non-null   int64  \n",
      " 72  Sale_Type                  1459 non-null   object \n",
      " 73  Sale_Condition             1459 non-null   object \n",
      " 74  Sale_Price                 1459 non-null   int64  \n",
      "dtypes: float64(6), int64(31), object(38)\n",
      "memory usage: 855.0+ KB\n"
     ]
    }
   ],
   "source": [
    "ppt.info()"
   ]
  },
  {
   "cell_type": "code",
   "execution_count": 140,
   "id": "12b443b8-0ce2-488f-9234-5920870a3649",
   "metadata": {},
   "outputs": [
    {
     "data": {
      "text/plain": [
       "Zoning_Class\n",
       "0    1150\n",
       "1     218\n",
       "2      65\n",
       "3      16\n",
       "4      10\n",
       "Name: count, dtype: int64"
      ]
     },
     "execution_count": 140,
     "metadata": {},
     "output_type": "execute_result"
    }
   ],
   "source": [
    "ppt.Zoning_Class.value_counts()"
   ]
  },
  {
   "cell_type": "code",
   "execution_count": 138,
   "id": "94d1ad9a-bd24-4a22-8ffc-acbb6c3f6ec0",
   "metadata": {},
   "outputs": [],
   "source": [
    "ppt.Zoning_Class=ppt.Zoning_Class.replace({'RLD':0,'RMD':1,'FVR':2,'RHD':3,'Commer':4})"
   ]
  },
  {
   "cell_type": "code",
   "execution_count": 160,
   "id": "19cf02cd-85ef-484d-b8e2-0d42a819eb0a",
   "metadata": {},
   "outputs": [
    {
     "name": "stdout",
     "output_type": "stream",
     "text": [
      "<class 'pandas.core.frame.DataFrame'>\n",
      "RangeIndex: 1459 entries, 0 to 1458\n",
      "Data columns (total 75 columns):\n",
      " #   Column                     Non-Null Count  Dtype  \n",
      "---  ------                     --------------  -----  \n",
      " 0   Id                         1459 non-null   int64  \n",
      " 1   Building_Class             1459 non-null   int64  \n",
      " 2   Zoning_Class               1459 non-null   int64  \n",
      " 3   Lot_Extent                 1459 non-null   float64\n",
      " 4   Lot_Size                   1459 non-null   int64  \n",
      " 5   Road_Type                  1459 non-null   int64  \n",
      " 6   Property_Shape             1459 non-null   int64  \n",
      " 7   Land_Outline               1459 non-null   object \n",
      " 8   Utility_Type               1459 non-null   object \n",
      " 9   Lot_Configuration          1459 non-null   object \n",
      " 10  Property_Slope             1459 non-null   object \n",
      " 11  Neighborhood               1459 non-null   object \n",
      " 12  Condition1                 1459 non-null   object \n",
      " 13  Condition2                 1459 non-null   object \n",
      " 14  House_Type                 1459 non-null   object \n",
      " 15  House_Design               1459 non-null   object \n",
      " 16  Overall_Material           1459 non-null   int64  \n",
      " 17  House_Condition            1459 non-null   int64  \n",
      " 18  Construction_Year          1459 non-null   int64  \n",
      " 19  Remodel_Year               1459 non-null   int64  \n",
      " 20  Roof_Design                1459 non-null   object \n",
      " 21  Roof_Quality               1459 non-null   object \n",
      " 22  Exterior1st                1459 non-null   object \n",
      " 23  Exterior2nd                1459 non-null   object \n",
      " 24  Brick_Veneer_Area          1459 non-null   object \n",
      " 25  Exterior_Material          1459 non-null   object \n",
      " 26  Exterior_Condition         1459 non-null   object \n",
      " 27  Foundation_Type            1459 non-null   object \n",
      " 28  Basement_Height            1459 non-null   object \n",
      " 29  Basement_Condition         1459 non-null   object \n",
      " 30  Exposure_Level             1459 non-null   object \n",
      " 31  BsmtFinType1               1459 non-null   object \n",
      " 32  BsmtFinSF1                 1459 non-null   int64  \n",
      " 33  BsmtFinType2               1459 non-null   object \n",
      " 34  BsmtFinSF2                 1459 non-null   int64  \n",
      " 35  BsmtUnfSF                  1459 non-null   int64  \n",
      " 36  Total_Basement_Area        1459 non-null   int64  \n",
      " 37  Heating_Type               1459 non-null   object \n",
      " 38  Heating_Quality            1459 non-null   object \n",
      " 39  Air_Conditioning           1459 non-null   object \n",
      " 40  Electrical_System          1459 non-null   object \n",
      " 41  First_Floor_Area           1459 non-null   int64  \n",
      " 42  Second_Floor_Area          1459 non-null   int64  \n",
      " 43  LowQualFinSF               1459 non-null   int64  \n",
      " 44  Grade_Living_Area          1459 non-null   int64  \n",
      " 45  Underground_Full_Bathroom  1459 non-null   int64  \n",
      " 46  Underground_Half_Bathroom  1459 non-null   int64  \n",
      " 47  Full_Bathroom_Above_Grade  1459 non-null   int64  \n",
      " 48  Half_Bathroom_Above_Grade  1459 non-null   int64  \n",
      " 49  Bedroom_Above_Grade        1459 non-null   int64  \n",
      " 50  Kitchen_Above_Grade        1459 non-null   int64  \n",
      " 51  Kitchen_Quality            1459 non-null   object \n",
      " 52  Rooms_Above_Grade          1459 non-null   int64  \n",
      " 53  Functional_Rate            1459 non-null   object \n",
      " 54  Fireplaces                 1459 non-null   int64  \n",
      " 55  Garage                     1459 non-null   object \n",
      " 56  Garage_Built_Year          1459 non-null   float64\n",
      " 57  Garage_Finish_Year         1459 non-null   object \n",
      " 58  Garage_Size                1459 non-null   int64  \n",
      " 59  Garage_Area                1459 non-null   float64\n",
      " 60  Garage_Quality             1459 non-null   object \n",
      " 61  Garage_Condition           1459 non-null   object \n",
      " 62  Pavedd_Drive               1459 non-null   object \n",
      " 63  W_Deck_Area                1459 non-null   float64\n",
      " 64  Open_Lobby_Area            1459 non-null   float64\n",
      " 65  Enclosed_Lobby_Area        1459 non-null   float64\n",
      " 66  Three_Season_Lobby_Area    1459 non-null   int64  \n",
      " 67  Screen_Lobby_Area          1459 non-null   int64  \n",
      " 68  Pool_Area                  1459 non-null   int64  \n",
      " 69  Miscellaneous_Value        1459 non-null   int64  \n",
      " 70  Month_Sold                 1459 non-null   int64  \n",
      " 71  Year_Sold                  1459 non-null   int64  \n",
      " 72  Sale_Type                  1459 non-null   object \n",
      " 73  Sale_Condition             1459 non-null   object \n",
      " 74  Sale_Price                 1459 non-null   int64  \n",
      "dtypes: float64(6), int64(34), object(35)\n",
      "memory usage: 855.0+ KB\n"
     ]
    }
   ],
   "source": [
    "ppt.info()"
   ]
  },
  {
   "cell_type": "code",
   "execution_count": 148,
   "id": "2044bb48-98b2-4add-9ceb-ecbead9c1183",
   "metadata": {},
   "outputs": [
    {
     "data": {
      "text/plain": [
       "Road_Type\n",
       "0    1453\n",
       "1       6\n",
       "Name: count, dtype: int64"
      ]
     },
     "execution_count": 148,
     "metadata": {},
     "output_type": "execute_result"
    }
   ],
   "source": [
    "ppt.Road_Type.value_counts()"
   ]
  },
  {
   "cell_type": "code",
   "execution_count": 146,
   "id": "51ef7a16-17a5-4473-826d-fdb8462f0c7d",
   "metadata": {},
   "outputs": [],
   "source": [
    "ppt.Road_Type=ppt.Road_Type.replace({'Paved':0,'Gravel':1})"
   ]
  },
  {
   "cell_type": "code",
   "execution_count": 158,
   "id": "cd941a9c-41f7-4609-815a-63b722519a31",
   "metadata": {},
   "outputs": [
    {
     "data": {
      "text/plain": [
       "Property_Shape\n",
       "0    924\n",
       "1    484\n",
       "2     41\n",
       "3     10\n",
       "Name: count, dtype: int64"
      ]
     },
     "execution_count": 158,
     "metadata": {},
     "output_type": "execute_result"
    }
   ],
   "source": [
    "ppt.Property_Shape.value_counts()"
   ]
  },
  {
   "cell_type": "code",
   "execution_count": 156,
   "id": "7862f86f-24c6-4189-856d-1e78ec9271b2",
   "metadata": {},
   "outputs": [],
   "source": [
    "ppt.Property_Shape=ppt.Property_Shape.replace({'Reg':0,'IR1':1,'IR2':2,'IR3':3})"
   ]
  },
  {
   "cell_type": "code",
   "execution_count": 162,
   "id": "27f23871-d688-416f-a86a-6d8d3ea05265",
   "metadata": {},
   "outputs": [
    {
     "data": {
      "text/plain": [
       "Land_Outline\n",
       "Lvl    1310\n",
       "Bnk      63\n",
       "HLS      50\n",
       "Low      36\n",
       "Name: count, dtype: int64"
      ]
     },
     "execution_count": 162,
     "metadata": {},
     "output_type": "execute_result"
    }
   ],
   "source": [
    "ppt.Land_Outline.value_counts()"
   ]
  },
  {
   "cell_type": "code",
   "execution_count": 164,
   "id": "cd540f32-b5b9-4792-90d4-e286cb28ed72",
   "metadata": {},
   "outputs": [],
   "source": [
    "from sklearn.preprocessing import LabelEncoder"
   ]
  },
  {
   "cell_type": "code",
   "execution_count": 178,
   "id": "5efe53b5-85e9-458e-895f-4a34817391e9",
   "metadata": {},
   "outputs": [
    {
     "name": "stdout",
     "output_type": "stream",
     "text": [
      "<class 'pandas.core.frame.DataFrame'>\n",
      "RangeIndex: 1459 entries, 0 to 1458\n",
      "Data columns (total 75 columns):\n",
      " #   Column                     Non-Null Count  Dtype  \n",
      "---  ------                     --------------  -----  \n",
      " 0   Id                         1459 non-null   int64  \n",
      " 1   Building_Class             1459 non-null   int64  \n",
      " 2   Zoning_Class               1459 non-null   int64  \n",
      " 3   Lot_Extent                 1459 non-null   float64\n",
      " 4   Lot_Size                   1459 non-null   int64  \n",
      " 5   Road_Type                  1459 non-null   int64  \n",
      " 6   Property_Shape             1459 non-null   int64  \n",
      " 7   Land_Outline               1459 non-null   object \n",
      " 8   Utility_Type               1459 non-null   object \n",
      " 9   Lot_Configuration          1459 non-null   object \n",
      " 10  Property_Slope             1459 non-null   object \n",
      " 11  Neighborhood               1459 non-null   object \n",
      " 12  Condition1                 1459 non-null   object \n",
      " 13  Condition2                 1459 non-null   object \n",
      " 14  House_Type                 1459 non-null   object \n",
      " 15  House_Design               1459 non-null   object \n",
      " 16  Overall_Material           1459 non-null   int64  \n",
      " 17  House_Condition            1459 non-null   int64  \n",
      " 18  Construction_Year          1459 non-null   int64  \n",
      " 19  Remodel_Year               1459 non-null   int64  \n",
      " 20  Roof_Design                1459 non-null   object \n",
      " 21  Roof_Quality               1459 non-null   object \n",
      " 22  Exterior1st                1459 non-null   object \n",
      " 23  Exterior2nd                1459 non-null   object \n",
      " 24  Brick_Veneer_Area          1459 non-null   object \n",
      " 25  Exterior_Material          1459 non-null   object \n",
      " 26  Exterior_Condition         1459 non-null   object \n",
      " 27  Foundation_Type            1459 non-null   object \n",
      " 28  Basement_Height            1459 non-null   object \n",
      " 29  Basement_Condition         1459 non-null   object \n",
      " 30  Exposure_Level             1459 non-null   object \n",
      " 31  BsmtFinType1               1459 non-null   object \n",
      " 32  BsmtFinSF1                 1459 non-null   int64  \n",
      " 33  BsmtFinType2               1459 non-null   object \n",
      " 34  BsmtFinSF2                 1459 non-null   int64  \n",
      " 35  BsmtUnfSF                  1459 non-null   int64  \n",
      " 36  Total_Basement_Area        1459 non-null   int64  \n",
      " 37  Heating_Type               1459 non-null   object \n",
      " 38  Heating_Quality            1459 non-null   object \n",
      " 39  Air_Conditioning           1459 non-null   object \n",
      " 40  Electrical_System          1459 non-null   object \n",
      " 41  First_Floor_Area           1459 non-null   int64  \n",
      " 42  Second_Floor_Area          1459 non-null   int64  \n",
      " 43  LowQualFinSF               1459 non-null   int64  \n",
      " 44  Grade_Living_Area          1459 non-null   int64  \n",
      " 45  Underground_Full_Bathroom  1459 non-null   int64  \n",
      " 46  Underground_Half_Bathroom  1459 non-null   int64  \n",
      " 47  Full_Bathroom_Above_Grade  1459 non-null   int64  \n",
      " 48  Half_Bathroom_Above_Grade  1459 non-null   int64  \n",
      " 49  Bedroom_Above_Grade        1459 non-null   int64  \n",
      " 50  Kitchen_Above_Grade        1459 non-null   int64  \n",
      " 51  Kitchen_Quality            1459 non-null   object \n",
      " 52  Rooms_Above_Grade          1459 non-null   int64  \n",
      " 53  Functional_Rate            1459 non-null   object \n",
      " 54  Fireplaces                 1459 non-null   int64  \n",
      " 55  Garage                     1459 non-null   object \n",
      " 56  Garage_Built_Year          1459 non-null   float64\n",
      " 57  Garage_Finish_Year         1459 non-null   object \n",
      " 58  Garage_Size                1459 non-null   int64  \n",
      " 59  Garage_Area                1459 non-null   float64\n",
      " 60  Garage_Quality             1459 non-null   object \n",
      " 61  Garage_Condition           1459 non-null   object \n",
      " 62  Pavedd_Drive               1459 non-null   object \n",
      " 63  W_Deck_Area                1459 non-null   float64\n",
      " 64  Open_Lobby_Area            1459 non-null   float64\n",
      " 65  Enclosed_Lobby_Area        1459 non-null   float64\n",
      " 66  Three_Season_Lobby_Area    1459 non-null   int64  \n",
      " 67  Screen_Lobby_Area          1459 non-null   int64  \n",
      " 68  Pool_Area                  1459 non-null   int64  \n",
      " 69  Miscellaneous_Value        1459 non-null   int64  \n",
      " 70  Month_Sold                 1459 non-null   int64  \n",
      " 71  Year_Sold                  1459 non-null   int64  \n",
      " 72  Sale_Type                  1459 non-null   object \n",
      " 73  Sale_Condition             1459 non-null   object \n",
      " 74  Sale_Price                 1459 non-null   int64  \n",
      "dtypes: float64(6), int64(34), object(35)\n",
      "memory usage: 855.0+ KB\n"
     ]
    }
   ],
   "source": [
    "le=LabelEncoder()\n",
    "ppt.info()"
   ]
  },
  {
   "cell_type": "code",
   "execution_count": 180,
   "id": "22640137-d283-49dc-ab4f-50b50ed5dcbb",
   "metadata": {},
   "outputs": [
    {
     "ename": "TypeError",
     "evalue": "Encoders require their input to be uniformly strings or numbers. Got ['float', 'str']",
     "output_type": "error",
     "traceback": [
      "\u001b[0;31m---------------------------------------------------------------------------\u001b[0m",
      "\u001b[0;31mTypeError\u001b[0m                                 Traceback (most recent call last)",
      "File \u001b[0;32m/opt/anaconda3/lib/python3.11/site-packages/sklearn/utils/_encode.py:173\u001b[0m, in \u001b[0;36m_unique_python\u001b[0;34m(values, return_inverse, return_counts)\u001b[0m\n\u001b[1;32m    171\u001b[0m uniques_set, missing_values \u001b[38;5;241m=\u001b[39m _extract_missing(uniques_set)\n\u001b[0;32m--> 173\u001b[0m uniques \u001b[38;5;241m=\u001b[39m \u001b[38;5;28msorted\u001b[39m(uniques_set)\n\u001b[1;32m    174\u001b[0m uniques\u001b[38;5;241m.\u001b[39mextend(missing_values\u001b[38;5;241m.\u001b[39mto_list())\n",
      "\u001b[0;31mTypeError\u001b[0m: '<' not supported between instances of 'str' and 'float'",
      "\nDuring handling of the above exception, another exception occurred:\n",
      "\u001b[0;31mTypeError\u001b[0m                                 Traceback (most recent call last)",
      "Cell \u001b[0;32mIn[180], line 1\u001b[0m\n\u001b[0;32m----> 1\u001b[0m ppt[ppt\u001b[38;5;241m.\u001b[39mselect_dtypes(include\u001b[38;5;241m=\u001b[39m[\u001b[38;5;124m'\u001b[39m\u001b[38;5;124mobject\u001b[39m\u001b[38;5;124m'\u001b[39m])\u001b[38;5;241m.\u001b[39mcolumns]\u001b[38;5;241m=\u001b[39mppt[ppt\u001b[38;5;241m.\u001b[39mselect_dtypes(include\u001b[38;5;241m=\u001b[39m[\u001b[38;5;124m'\u001b[39m\u001b[38;5;124mobject\u001b[39m\u001b[38;5;124m'\u001b[39m])\u001b[38;5;241m.\u001b[39mcolumns]\u001b[38;5;241m.\u001b[39mapply(le\u001b[38;5;241m.\u001b[39mfit_transform)\n",
      "File \u001b[0;32m/opt/anaconda3/lib/python3.11/site-packages/pandas/core/frame.py:10034\u001b[0m, in \u001b[0;36mDataFrame.apply\u001b[0;34m(self, func, axis, raw, result_type, args, by_row, **kwargs)\u001b[0m\n\u001b[1;32m  10022\u001b[0m \u001b[38;5;28;01mfrom\u001b[39;00m \u001b[38;5;21;01mpandas\u001b[39;00m\u001b[38;5;21;01m.\u001b[39;00m\u001b[38;5;21;01mcore\u001b[39;00m\u001b[38;5;21;01m.\u001b[39;00m\u001b[38;5;21;01mapply\u001b[39;00m \u001b[38;5;28;01mimport\u001b[39;00m frame_apply\n\u001b[1;32m  10024\u001b[0m op \u001b[38;5;241m=\u001b[39m frame_apply(\n\u001b[1;32m  10025\u001b[0m     \u001b[38;5;28mself\u001b[39m,\n\u001b[1;32m  10026\u001b[0m     func\u001b[38;5;241m=\u001b[39mfunc,\n\u001b[0;32m   (...)\u001b[0m\n\u001b[1;32m  10032\u001b[0m     kwargs\u001b[38;5;241m=\u001b[39mkwargs,\n\u001b[1;32m  10033\u001b[0m )\n\u001b[0;32m> 10034\u001b[0m \u001b[38;5;28;01mreturn\u001b[39;00m op\u001b[38;5;241m.\u001b[39mapply()\u001b[38;5;241m.\u001b[39m__finalize__(\u001b[38;5;28mself\u001b[39m, method\u001b[38;5;241m=\u001b[39m\u001b[38;5;124m\"\u001b[39m\u001b[38;5;124mapply\u001b[39m\u001b[38;5;124m\"\u001b[39m)\n",
      "File \u001b[0;32m/opt/anaconda3/lib/python3.11/site-packages/pandas/core/apply.py:837\u001b[0m, in \u001b[0;36mFrameApply.apply\u001b[0;34m(self)\u001b[0m\n\u001b[1;32m    834\u001b[0m \u001b[38;5;28;01melif\u001b[39;00m \u001b[38;5;28mself\u001b[39m\u001b[38;5;241m.\u001b[39mraw:\n\u001b[1;32m    835\u001b[0m     \u001b[38;5;28;01mreturn\u001b[39;00m \u001b[38;5;28mself\u001b[39m\u001b[38;5;241m.\u001b[39mapply_raw()\n\u001b[0;32m--> 837\u001b[0m \u001b[38;5;28;01mreturn\u001b[39;00m \u001b[38;5;28mself\u001b[39m\u001b[38;5;241m.\u001b[39mapply_standard()\n",
      "File \u001b[0;32m/opt/anaconda3/lib/python3.11/site-packages/pandas/core/apply.py:965\u001b[0m, in \u001b[0;36mFrameApply.apply_standard\u001b[0;34m(self)\u001b[0m\n\u001b[1;32m    964\u001b[0m \u001b[38;5;28;01mdef\u001b[39;00m \u001b[38;5;21mapply_standard\u001b[39m(\u001b[38;5;28mself\u001b[39m):\n\u001b[0;32m--> 965\u001b[0m     results, res_index \u001b[38;5;241m=\u001b[39m \u001b[38;5;28mself\u001b[39m\u001b[38;5;241m.\u001b[39mapply_series_generator()\n\u001b[1;32m    967\u001b[0m     \u001b[38;5;66;03m# wrap results\u001b[39;00m\n\u001b[1;32m    968\u001b[0m     \u001b[38;5;28;01mreturn\u001b[39;00m \u001b[38;5;28mself\u001b[39m\u001b[38;5;241m.\u001b[39mwrap_results(results, res_index)\n",
      "File \u001b[0;32m/opt/anaconda3/lib/python3.11/site-packages/pandas/core/apply.py:981\u001b[0m, in \u001b[0;36mFrameApply.apply_series_generator\u001b[0;34m(self)\u001b[0m\n\u001b[1;32m    978\u001b[0m \u001b[38;5;28;01mwith\u001b[39;00m option_context(\u001b[38;5;124m\"\u001b[39m\u001b[38;5;124mmode.chained_assignment\u001b[39m\u001b[38;5;124m\"\u001b[39m, \u001b[38;5;28;01mNone\u001b[39;00m):\n\u001b[1;32m    979\u001b[0m     \u001b[38;5;28;01mfor\u001b[39;00m i, v \u001b[38;5;129;01min\u001b[39;00m \u001b[38;5;28menumerate\u001b[39m(series_gen):\n\u001b[1;32m    980\u001b[0m         \u001b[38;5;66;03m# ignore SettingWithCopy here in case the user mutates\u001b[39;00m\n\u001b[0;32m--> 981\u001b[0m         results[i] \u001b[38;5;241m=\u001b[39m \u001b[38;5;28mself\u001b[39m\u001b[38;5;241m.\u001b[39mfunc(v, \u001b[38;5;241m*\u001b[39m\u001b[38;5;28mself\u001b[39m\u001b[38;5;241m.\u001b[39margs, \u001b[38;5;241m*\u001b[39m\u001b[38;5;241m*\u001b[39m\u001b[38;5;28mself\u001b[39m\u001b[38;5;241m.\u001b[39mkwargs)\n\u001b[1;32m    982\u001b[0m         \u001b[38;5;28;01mif\u001b[39;00m \u001b[38;5;28misinstance\u001b[39m(results[i], ABCSeries):\n\u001b[1;32m    983\u001b[0m             \u001b[38;5;66;03m# If we have a view on v, we need to make a copy because\u001b[39;00m\n\u001b[1;32m    984\u001b[0m             \u001b[38;5;66;03m#  series_generator will swap out the underlying data\u001b[39;00m\n\u001b[1;32m    985\u001b[0m             results[i] \u001b[38;5;241m=\u001b[39m results[i]\u001b[38;5;241m.\u001b[39mcopy(deep\u001b[38;5;241m=\u001b[39m\u001b[38;5;28;01mFalse\u001b[39;00m)\n",
      "File \u001b[0;32m/opt/anaconda3/lib/python3.11/site-packages/sklearn/utils/_set_output.py:140\u001b[0m, in \u001b[0;36m_wrap_method_output.<locals>.wrapped\u001b[0;34m(self, X, *args, **kwargs)\u001b[0m\n\u001b[1;32m    138\u001b[0m \u001b[38;5;129m@wraps\u001b[39m(f)\n\u001b[1;32m    139\u001b[0m \u001b[38;5;28;01mdef\u001b[39;00m \u001b[38;5;21mwrapped\u001b[39m(\u001b[38;5;28mself\u001b[39m, X, \u001b[38;5;241m*\u001b[39margs, \u001b[38;5;241m*\u001b[39m\u001b[38;5;241m*\u001b[39mkwargs):\n\u001b[0;32m--> 140\u001b[0m     data_to_wrap \u001b[38;5;241m=\u001b[39m f(\u001b[38;5;28mself\u001b[39m, X, \u001b[38;5;241m*\u001b[39margs, \u001b[38;5;241m*\u001b[39m\u001b[38;5;241m*\u001b[39mkwargs)\n\u001b[1;32m    141\u001b[0m     \u001b[38;5;28;01mif\u001b[39;00m \u001b[38;5;28misinstance\u001b[39m(data_to_wrap, \u001b[38;5;28mtuple\u001b[39m):\n\u001b[1;32m    142\u001b[0m         \u001b[38;5;66;03m# only wrap the first output for cross decomposition\u001b[39;00m\n\u001b[1;32m    143\u001b[0m         \u001b[38;5;28;01mreturn\u001b[39;00m (\n\u001b[1;32m    144\u001b[0m             _wrap_data_with_container(method, data_to_wrap[\u001b[38;5;241m0\u001b[39m], X, \u001b[38;5;28mself\u001b[39m),\n\u001b[1;32m    145\u001b[0m             \u001b[38;5;241m*\u001b[39mdata_to_wrap[\u001b[38;5;241m1\u001b[39m:],\n\u001b[1;32m    146\u001b[0m         )\n",
      "File \u001b[0;32m/opt/anaconda3/lib/python3.11/site-packages/sklearn/preprocessing/_label.py:117\u001b[0m, in \u001b[0;36mLabelEncoder.fit_transform\u001b[0;34m(self, y)\u001b[0m\n\u001b[1;32m    104\u001b[0m \u001b[38;5;250m\u001b[39m\u001b[38;5;124;03m\"\"\"Fit label encoder and return encoded labels.\u001b[39;00m\n\u001b[1;32m    105\u001b[0m \n\u001b[1;32m    106\u001b[0m \u001b[38;5;124;03mParameters\u001b[39;00m\n\u001b[0;32m   (...)\u001b[0m\n\u001b[1;32m    114\u001b[0m \u001b[38;5;124;03m    Encoded labels.\u001b[39;00m\n\u001b[1;32m    115\u001b[0m \u001b[38;5;124;03m\"\"\"\u001b[39;00m\n\u001b[1;32m    116\u001b[0m y \u001b[38;5;241m=\u001b[39m column_or_1d(y, warn\u001b[38;5;241m=\u001b[39m\u001b[38;5;28;01mTrue\u001b[39;00m)\n\u001b[0;32m--> 117\u001b[0m \u001b[38;5;28mself\u001b[39m\u001b[38;5;241m.\u001b[39mclasses_, y \u001b[38;5;241m=\u001b[39m _unique(y, return_inverse\u001b[38;5;241m=\u001b[39m\u001b[38;5;28;01mTrue\u001b[39;00m)\n\u001b[1;32m    118\u001b[0m \u001b[38;5;28;01mreturn\u001b[39;00m y\n",
      "File \u001b[0;32m/opt/anaconda3/lib/python3.11/site-packages/sklearn/utils/_encode.py:41\u001b[0m, in \u001b[0;36m_unique\u001b[0;34m(values, return_inverse, return_counts)\u001b[0m\n\u001b[1;32m     10\u001b[0m \u001b[38;5;250m\u001b[39m\u001b[38;5;124;03m\"\"\"Helper function to find unique values with support for python objects.\u001b[39;00m\n\u001b[1;32m     11\u001b[0m \n\u001b[1;32m     12\u001b[0m \u001b[38;5;124;03mUses pure python method for object dtype, and numpy method for\u001b[39;00m\n\u001b[0;32m   (...)\u001b[0m\n\u001b[1;32m     38\u001b[0m \u001b[38;5;124;03m    array. Only provided if `return_counts` is True.\u001b[39;00m\n\u001b[1;32m     39\u001b[0m \u001b[38;5;124;03m\"\"\"\u001b[39;00m\n\u001b[1;32m     40\u001b[0m \u001b[38;5;28;01mif\u001b[39;00m values\u001b[38;5;241m.\u001b[39mdtype \u001b[38;5;241m==\u001b[39m \u001b[38;5;28mobject\u001b[39m:\n\u001b[0;32m---> 41\u001b[0m     \u001b[38;5;28;01mreturn\u001b[39;00m _unique_python(\n\u001b[1;32m     42\u001b[0m         values, return_inverse\u001b[38;5;241m=\u001b[39mreturn_inverse, return_counts\u001b[38;5;241m=\u001b[39mreturn_counts\n\u001b[1;32m     43\u001b[0m     )\n\u001b[1;32m     44\u001b[0m \u001b[38;5;66;03m# numerical\u001b[39;00m\n\u001b[1;32m     45\u001b[0m \u001b[38;5;28;01mreturn\u001b[39;00m _unique_np(\n\u001b[1;32m     46\u001b[0m     values, return_inverse\u001b[38;5;241m=\u001b[39mreturn_inverse, return_counts\u001b[38;5;241m=\u001b[39mreturn_counts\n\u001b[1;32m     47\u001b[0m )\n",
      "File \u001b[0;32m/opt/anaconda3/lib/python3.11/site-packages/sklearn/utils/_encode.py:178\u001b[0m, in \u001b[0;36m_unique_python\u001b[0;34m(values, return_inverse, return_counts)\u001b[0m\n\u001b[1;32m    176\u001b[0m \u001b[38;5;28;01mexcept\u001b[39;00m \u001b[38;5;167;01mTypeError\u001b[39;00m:\n\u001b[1;32m    177\u001b[0m     types \u001b[38;5;241m=\u001b[39m \u001b[38;5;28msorted\u001b[39m(t\u001b[38;5;241m.\u001b[39m\u001b[38;5;18m__qualname__\u001b[39m \u001b[38;5;28;01mfor\u001b[39;00m t \u001b[38;5;129;01min\u001b[39;00m \u001b[38;5;28mset\u001b[39m(\u001b[38;5;28mtype\u001b[39m(v) \u001b[38;5;28;01mfor\u001b[39;00m v \u001b[38;5;129;01min\u001b[39;00m values))\n\u001b[0;32m--> 178\u001b[0m     \u001b[38;5;28;01mraise\u001b[39;00m \u001b[38;5;167;01mTypeError\u001b[39;00m(\n\u001b[1;32m    179\u001b[0m         \u001b[38;5;124m\"\u001b[39m\u001b[38;5;124mEncoders require their input to be uniformly \u001b[39m\u001b[38;5;124m\"\u001b[39m\n\u001b[1;32m    180\u001b[0m         \u001b[38;5;124mf\u001b[39m\u001b[38;5;124m\"\u001b[39m\u001b[38;5;124mstrings or numbers. Got \u001b[39m\u001b[38;5;132;01m{\u001b[39;00mtypes\u001b[38;5;132;01m}\u001b[39;00m\u001b[38;5;124m\"\u001b[39m\n\u001b[1;32m    181\u001b[0m     )\n\u001b[1;32m    182\u001b[0m ret \u001b[38;5;241m=\u001b[39m (uniques,)\n\u001b[1;32m    184\u001b[0m \u001b[38;5;28;01mif\u001b[39;00m return_inverse:\n",
      "\u001b[0;31mTypeError\u001b[0m: Encoders require their input to be uniformly strings or numbers. Got ['float', 'str']"
     ]
    }
   ],
   "source": [
    "ppt[ppt.select_dtypes(include=['object']).columns]=ppt[ppt.select_dtypes(include=['object']).columns].apply(le.fit_transform)"
   ]
  },
  {
   "cell_type": "code",
   "execution_count": 184,
   "id": "f109b0d5-1504-4db8-878f-421e5375a57d",
   "metadata": {},
   "outputs": [],
   "source": [
    "from sklearn.preprocessing import LabelEncoder\n",
    "\n",
    "# Initialize LabelEncoder\n",
    "le = LabelEncoder()\n",
    "\n",
    "# Select only columns with object dtype (strings) for encoding\n",
    "categorical_columns = ppt.select_dtypes(include=['object']).columns\n",
    "\n",
    "# Apply LabelEncoder to the categorical columns\n",
    "for col in categorical_columns:\n",
    "    ppt[col] = le.fit_transform(ppt[col].astype(str))  # Ensure data is treated as strings\n"
   ]
  },
  {
   "cell_type": "code",
   "execution_count": 186,
   "id": "b842e44a-3dc9-44f4-b41a-b4f0c15da4e2",
   "metadata": {},
   "outputs": [
    {
     "name": "stdout",
     "output_type": "stream",
     "text": [
      "<class 'pandas.core.frame.DataFrame'>\n",
      "RangeIndex: 1459 entries, 0 to 1458\n",
      "Data columns (total 75 columns):\n",
      " #   Column                     Non-Null Count  Dtype  \n",
      "---  ------                     --------------  -----  \n",
      " 0   Id                         1459 non-null   int64  \n",
      " 1   Building_Class             1459 non-null   int64  \n",
      " 2   Zoning_Class               1459 non-null   int64  \n",
      " 3   Lot_Extent                 1459 non-null   float64\n",
      " 4   Lot_Size                   1459 non-null   int64  \n",
      " 5   Road_Type                  1459 non-null   int64  \n",
      " 6   Property_Shape             1459 non-null   int64  \n",
      " 7   Land_Outline               1459 non-null   int64  \n",
      " 8   Utility_Type               1459 non-null   int64  \n",
      " 9   Lot_Configuration          1459 non-null   int64  \n",
      " 10  Property_Slope             1459 non-null   int64  \n",
      " 11  Neighborhood               1459 non-null   int64  \n",
      " 12  Condition1                 1459 non-null   int64  \n",
      " 13  Condition2                 1459 non-null   int64  \n",
      " 14  House_Type                 1459 non-null   int64  \n",
      " 15  House_Design               1459 non-null   int64  \n",
      " 16  Overall_Material           1459 non-null   int64  \n",
      " 17  House_Condition            1459 non-null   int64  \n",
      " 18  Construction_Year          1459 non-null   int64  \n",
      " 19  Remodel_Year               1459 non-null   int64  \n",
      " 20  Roof_Design                1459 non-null   int64  \n",
      " 21  Roof_Quality               1459 non-null   int64  \n",
      " 22  Exterior1st                1459 non-null   int64  \n",
      " 23  Exterior2nd                1459 non-null   int64  \n",
      " 24  Brick_Veneer_Area          1459 non-null   int64  \n",
      " 25  Exterior_Material          1459 non-null   int64  \n",
      " 26  Exterior_Condition         1459 non-null   int64  \n",
      " 27  Foundation_Type            1459 non-null   int64  \n",
      " 28  Basement_Height            1459 non-null   int64  \n",
      " 29  Basement_Condition         1459 non-null   int64  \n",
      " 30  Exposure_Level             1459 non-null   int64  \n",
      " 31  BsmtFinType1               1459 non-null   int64  \n",
      " 32  BsmtFinSF1                 1459 non-null   int64  \n",
      " 33  BsmtFinType2               1459 non-null   int64  \n",
      " 34  BsmtFinSF2                 1459 non-null   int64  \n",
      " 35  BsmtUnfSF                  1459 non-null   int64  \n",
      " 36  Total_Basement_Area        1459 non-null   int64  \n",
      " 37  Heating_Type               1459 non-null   int64  \n",
      " 38  Heating_Quality            1459 non-null   int64  \n",
      " 39  Air_Conditioning           1459 non-null   int64  \n",
      " 40  Electrical_System          1459 non-null   int64  \n",
      " 41  First_Floor_Area           1459 non-null   int64  \n",
      " 42  Second_Floor_Area          1459 non-null   int64  \n",
      " 43  LowQualFinSF               1459 non-null   int64  \n",
      " 44  Grade_Living_Area          1459 non-null   int64  \n",
      " 45  Underground_Full_Bathroom  1459 non-null   int64  \n",
      " 46  Underground_Half_Bathroom  1459 non-null   int64  \n",
      " 47  Full_Bathroom_Above_Grade  1459 non-null   int64  \n",
      " 48  Half_Bathroom_Above_Grade  1459 non-null   int64  \n",
      " 49  Bedroom_Above_Grade        1459 non-null   int64  \n",
      " 50  Kitchen_Above_Grade        1459 non-null   int64  \n",
      " 51  Kitchen_Quality            1459 non-null   int64  \n",
      " 52  Rooms_Above_Grade          1459 non-null   int64  \n",
      " 53  Functional_Rate            1459 non-null   int64  \n",
      " 54  Fireplaces                 1459 non-null   int64  \n",
      " 55  Garage                     1459 non-null   int64  \n",
      " 56  Garage_Built_Year          1459 non-null   float64\n",
      " 57  Garage_Finish_Year         1459 non-null   int64  \n",
      " 58  Garage_Size                1459 non-null   int64  \n",
      " 59  Garage_Area                1459 non-null   float64\n",
      " 60  Garage_Quality             1459 non-null   int64  \n",
      " 61  Garage_Condition           1459 non-null   int64  \n",
      " 62  Pavedd_Drive               1459 non-null   int64  \n",
      " 63  W_Deck_Area                1459 non-null   float64\n",
      " 64  Open_Lobby_Area            1459 non-null   float64\n",
      " 65  Enclosed_Lobby_Area        1459 non-null   float64\n",
      " 66  Three_Season_Lobby_Area    1459 non-null   int64  \n",
      " 67  Screen_Lobby_Area          1459 non-null   int64  \n",
      " 68  Pool_Area                  1459 non-null   int64  \n",
      " 69  Miscellaneous_Value        1459 non-null   int64  \n",
      " 70  Month_Sold                 1459 non-null   int64  \n",
      " 71  Year_Sold                  1459 non-null   int64  \n",
      " 72  Sale_Type                  1459 non-null   int64  \n",
      " 73  Sale_Condition             1459 non-null   int64  \n",
      " 74  Sale_Price                 1459 non-null   int64  \n",
      "dtypes: float64(6), int64(69)\n",
      "memory usage: 855.0 KB\n"
     ]
    }
   ],
   "source": [
    "ppt.info()"
   ]
  },
  {
   "cell_type": "code",
   "execution_count": 188,
   "id": "7bc649d9-a8b8-4258-aa01-0e81dca8c59a",
   "metadata": {},
   "outputs": [
    {
     "data": {
      "text/html": [
       "<div>\n",
       "<style scoped>\n",
       "    .dataframe tbody tr th:only-of-type {\n",
       "        vertical-align: middle;\n",
       "    }\n",
       "\n",
       "    .dataframe tbody tr th {\n",
       "        vertical-align: top;\n",
       "    }\n",
       "\n",
       "    .dataframe thead th {\n",
       "        text-align: right;\n",
       "    }\n",
       "</style>\n",
       "<table border=\"1\" class=\"dataframe\">\n",
       "  <thead>\n",
       "    <tr style=\"text-align: right;\">\n",
       "      <th></th>\n",
       "      <th>Id</th>\n",
       "      <th>Building_Class</th>\n",
       "      <th>Zoning_Class</th>\n",
       "      <th>Lot_Extent</th>\n",
       "      <th>Lot_Size</th>\n",
       "      <th>Road_Type</th>\n",
       "      <th>Property_Shape</th>\n",
       "      <th>Land_Outline</th>\n",
       "      <th>Utility_Type</th>\n",
       "      <th>Lot_Configuration</th>\n",
       "      <th>...</th>\n",
       "      <th>Enclosed_Lobby_Area</th>\n",
       "      <th>Three_Season_Lobby_Area</th>\n",
       "      <th>Screen_Lobby_Area</th>\n",
       "      <th>Pool_Area</th>\n",
       "      <th>Miscellaneous_Value</th>\n",
       "      <th>Month_Sold</th>\n",
       "      <th>Year_Sold</th>\n",
       "      <th>Sale_Type</th>\n",
       "      <th>Sale_Condition</th>\n",
       "      <th>Sale_Price</th>\n",
       "    </tr>\n",
       "  </thead>\n",
       "  <tbody>\n",
       "    <tr>\n",
       "      <th>0</th>\n",
       "      <td>1</td>\n",
       "      <td>60</td>\n",
       "      <td>0</td>\n",
       "      <td>65.0</td>\n",
       "      <td>8450</td>\n",
       "      <td>0</td>\n",
       "      <td>0</td>\n",
       "      <td>3</td>\n",
       "      <td>0</td>\n",
       "      <td>4</td>\n",
       "      <td>...</td>\n",
       "      <td>20.337934</td>\n",
       "      <td>0</td>\n",
       "      <td>0</td>\n",
       "      <td>0</td>\n",
       "      <td>0</td>\n",
       "      <td>2</td>\n",
       "      <td>2008</td>\n",
       "      <td>8</td>\n",
       "      <td>4</td>\n",
       "      <td>208500</td>\n",
       "    </tr>\n",
       "    <tr>\n",
       "      <th>1</th>\n",
       "      <td>2</td>\n",
       "      <td>20</td>\n",
       "      <td>0</td>\n",
       "      <td>80.0</td>\n",
       "      <td>9600</td>\n",
       "      <td>0</td>\n",
       "      <td>0</td>\n",
       "      <td>3</td>\n",
       "      <td>0</td>\n",
       "      <td>2</td>\n",
       "      <td>...</td>\n",
       "      <td>15.039392</td>\n",
       "      <td>0</td>\n",
       "      <td>0</td>\n",
       "      <td>0</td>\n",
       "      <td>0</td>\n",
       "      <td>5</td>\n",
       "      <td>2007</td>\n",
       "      <td>8</td>\n",
       "      <td>4</td>\n",
       "      <td>181500</td>\n",
       "    </tr>\n",
       "    <tr>\n",
       "      <th>2</th>\n",
       "      <td>3</td>\n",
       "      <td>60</td>\n",
       "      <td>0</td>\n",
       "      <td>68.0</td>\n",
       "      <td>11250</td>\n",
       "      <td>0</td>\n",
       "      <td>1</td>\n",
       "      <td>3</td>\n",
       "      <td>0</td>\n",
       "      <td>4</td>\n",
       "      <td>...</td>\n",
       "      <td>-46.232198</td>\n",
       "      <td>0</td>\n",
       "      <td>0</td>\n",
       "      <td>0</td>\n",
       "      <td>0</td>\n",
       "      <td>9</td>\n",
       "      <td>2008</td>\n",
       "      <td>8</td>\n",
       "      <td>4</td>\n",
       "      <td>223500</td>\n",
       "    </tr>\n",
       "    <tr>\n",
       "      <th>3</th>\n",
       "      <td>4</td>\n",
       "      <td>70</td>\n",
       "      <td>0</td>\n",
       "      <td>60.0</td>\n",
       "      <td>9550</td>\n",
       "      <td>0</td>\n",
       "      <td>1</td>\n",
       "      <td>3</td>\n",
       "      <td>0</td>\n",
       "      <td>0</td>\n",
       "      <td>...</td>\n",
       "      <td>60.921821</td>\n",
       "      <td>0</td>\n",
       "      <td>0</td>\n",
       "      <td>0</td>\n",
       "      <td>0</td>\n",
       "      <td>2</td>\n",
       "      <td>2006</td>\n",
       "      <td>8</td>\n",
       "      <td>0</td>\n",
       "      <td>140000</td>\n",
       "    </tr>\n",
       "    <tr>\n",
       "      <th>4</th>\n",
       "      <td>5</td>\n",
       "      <td>60</td>\n",
       "      <td>0</td>\n",
       "      <td>84.0</td>\n",
       "      <td>14260</td>\n",
       "      <td>0</td>\n",
       "      <td>1</td>\n",
       "      <td>3</td>\n",
       "      <td>0</td>\n",
       "      <td>2</td>\n",
       "      <td>...</td>\n",
       "      <td>21.788818</td>\n",
       "      <td>0</td>\n",
       "      <td>0</td>\n",
       "      <td>0</td>\n",
       "      <td>0</td>\n",
       "      <td>12</td>\n",
       "      <td>2008</td>\n",
       "      <td>8</td>\n",
       "      <td>4</td>\n",
       "      <td>250000</td>\n",
       "    </tr>\n",
       "  </tbody>\n",
       "</table>\n",
       "<p>5 rows × 75 columns</p>\n",
       "</div>"
      ],
      "text/plain": [
       "   Id  Building_Class  Zoning_Class  Lot_Extent  Lot_Size  Road_Type  \\\n",
       "0   1              60             0        65.0      8450          0   \n",
       "1   2              20             0        80.0      9600          0   \n",
       "2   3              60             0        68.0     11250          0   \n",
       "3   4              70             0        60.0      9550          0   \n",
       "4   5              60             0        84.0     14260          0   \n",
       "\n",
       "   Property_Shape  Land_Outline  Utility_Type  Lot_Configuration  ...  \\\n",
       "0               0             3             0                  4  ...   \n",
       "1               0             3             0                  2  ...   \n",
       "2               1             3             0                  4  ...   \n",
       "3               1             3             0                  0  ...   \n",
       "4               1             3             0                  2  ...   \n",
       "\n",
       "   Enclosed_Lobby_Area  Three_Season_Lobby_Area  Screen_Lobby_Area  Pool_Area  \\\n",
       "0            20.337934                        0                  0          0   \n",
       "1            15.039392                        0                  0          0   \n",
       "2           -46.232198                        0                  0          0   \n",
       "3            60.921821                        0                  0          0   \n",
       "4            21.788818                        0                  0          0   \n",
       "\n",
       "   Miscellaneous_Value  Month_Sold  Year_Sold  Sale_Type  Sale_Condition  \\\n",
       "0                    0           2       2008          8               4   \n",
       "1                    0           5       2007          8               4   \n",
       "2                    0           9       2008          8               4   \n",
       "3                    0           2       2006          8               0   \n",
       "4                    0          12       2008          8               4   \n",
       "\n",
       "   Sale_Price  \n",
       "0      208500  \n",
       "1      181500  \n",
       "2      223500  \n",
       "3      140000  \n",
       "4      250000  \n",
       "\n",
       "[5 rows x 75 columns]"
      ]
     },
     "execution_count": 188,
     "metadata": {},
     "output_type": "execute_result"
    }
   ],
   "source": [
    "ppt.head()"
   ]
  },
  {
   "cell_type": "code",
   "execution_count": 190,
   "id": "9fda4fb2-b843-434b-a0cc-adf6e714440a",
   "metadata": {},
   "outputs": [],
   "source": [
    "from sklearn.model_selection import train_test_split"
   ]
  },
  {
   "cell_type": "code",
   "execution_count": 192,
   "id": "d24a7182-3cec-4f5d-8ea9-3dccc66dda69",
   "metadata": {},
   "outputs": [],
   "source": [
    "ppt_train,ppt_test = train_test_split(ppt,test_size=0.25)"
   ]
  },
  {
   "cell_type": "code",
   "execution_count": 194,
   "id": "3478ec63-c732-4106-8f9e-c66a994ebbfc",
   "metadata": {},
   "outputs": [],
   "source": [
    "ppt_train_x = ppt_train.iloc[:,0:-1]\n",
    "ppt_train_y = ppt_train.iloc[:,[-1]]"
   ]
  },
  {
   "cell_type": "code",
   "execution_count": 196,
   "id": "5eb15750-d78b-487a-a836-396196d1c89f",
   "metadata": {},
   "outputs": [],
   "source": [
    "ppt_test_x = ppt_test.iloc[:,0:-1]\n",
    "ppt_test_y = ppt_test.iloc[:,[-1]]"
   ]
  },
  {
   "cell_type": "code",
   "execution_count": 198,
   "id": "3b2011fc-2e11-4020-8d54-4af883b25645",
   "metadata": {},
   "outputs": [],
   "source": [
    "from sklearn.linear_model import LinearRegression"
   ]
  },
  {
   "cell_type": "code",
   "execution_count": 200,
   "id": "bab21edd-6691-48bd-8a88-626c3f182215",
   "metadata": {},
   "outputs": [],
   "source": [
    "linreg=LinearRegression()"
   ]
  },
  {
   "cell_type": "code",
   "execution_count": 204,
   "id": "6b995e31-243f-4f13-aec8-b4e2038b17bb",
   "metadata": {},
   "outputs": [
    {
     "data": {
      "text/html": [
       "<style>#sk-container-id-2 {color: black;background-color: white;}#sk-container-id-2 pre{padding: 0;}#sk-container-id-2 div.sk-toggleable {background-color: white;}#sk-container-id-2 label.sk-toggleable__label {cursor: pointer;display: block;width: 100%;margin-bottom: 0;padding: 0.3em;box-sizing: border-box;text-align: center;}#sk-container-id-2 label.sk-toggleable__label-arrow:before {content: \"▸\";float: left;margin-right: 0.25em;color: #696969;}#sk-container-id-2 label.sk-toggleable__label-arrow:hover:before {color: black;}#sk-container-id-2 div.sk-estimator:hover label.sk-toggleable__label-arrow:before {color: black;}#sk-container-id-2 div.sk-toggleable__content {max-height: 0;max-width: 0;overflow: hidden;text-align: left;background-color: #f0f8ff;}#sk-container-id-2 div.sk-toggleable__content pre {margin: 0.2em;color: black;border-radius: 0.25em;background-color: #f0f8ff;}#sk-container-id-2 input.sk-toggleable__control:checked~div.sk-toggleable__content {max-height: 200px;max-width: 100%;overflow: auto;}#sk-container-id-2 input.sk-toggleable__control:checked~label.sk-toggleable__label-arrow:before {content: \"▾\";}#sk-container-id-2 div.sk-estimator input.sk-toggleable__control:checked~label.sk-toggleable__label {background-color: #d4ebff;}#sk-container-id-2 div.sk-label input.sk-toggleable__control:checked~label.sk-toggleable__label {background-color: #d4ebff;}#sk-container-id-2 input.sk-hidden--visually {border: 0;clip: rect(1px 1px 1px 1px);clip: rect(1px, 1px, 1px, 1px);height: 1px;margin: -1px;overflow: hidden;padding: 0;position: absolute;width: 1px;}#sk-container-id-2 div.sk-estimator {font-family: monospace;background-color: #f0f8ff;border: 1px dotted black;border-radius: 0.25em;box-sizing: border-box;margin-bottom: 0.5em;}#sk-container-id-2 div.sk-estimator:hover {background-color: #d4ebff;}#sk-container-id-2 div.sk-parallel-item::after {content: \"\";width: 100%;border-bottom: 1px solid gray;flex-grow: 1;}#sk-container-id-2 div.sk-label:hover label.sk-toggleable__label {background-color: #d4ebff;}#sk-container-id-2 div.sk-serial::before {content: \"\";position: absolute;border-left: 1px solid gray;box-sizing: border-box;top: 0;bottom: 0;left: 50%;z-index: 0;}#sk-container-id-2 div.sk-serial {display: flex;flex-direction: column;align-items: center;background-color: white;padding-right: 0.2em;padding-left: 0.2em;position: relative;}#sk-container-id-2 div.sk-item {position: relative;z-index: 1;}#sk-container-id-2 div.sk-parallel {display: flex;align-items: stretch;justify-content: center;background-color: white;position: relative;}#sk-container-id-2 div.sk-item::before, #sk-container-id-2 div.sk-parallel-item::before {content: \"\";position: absolute;border-left: 1px solid gray;box-sizing: border-box;top: 0;bottom: 0;left: 50%;z-index: -1;}#sk-container-id-2 div.sk-parallel-item {display: flex;flex-direction: column;z-index: 1;position: relative;background-color: white;}#sk-container-id-2 div.sk-parallel-item:first-child::after {align-self: flex-end;width: 50%;}#sk-container-id-2 div.sk-parallel-item:last-child::after {align-self: flex-start;width: 50%;}#sk-container-id-2 div.sk-parallel-item:only-child::after {width: 0;}#sk-container-id-2 div.sk-dashed-wrapped {border: 1px dashed gray;margin: 0 0.4em 0.5em 0.4em;box-sizing: border-box;padding-bottom: 0.4em;background-color: white;}#sk-container-id-2 div.sk-label label {font-family: monospace;font-weight: bold;display: inline-block;line-height: 1.2em;}#sk-container-id-2 div.sk-label-container {text-align: center;}#sk-container-id-2 div.sk-container {/* jupyter's `normalize.less` sets `[hidden] { display: none; }` but bootstrap.min.css set `[hidden] { display: none !important; }` so we also need the `!important` here to be able to override the default hidden behavior on the sphinx rendered scikit-learn.org. See: https://github.com/scikit-learn/scikit-learn/issues/21755 */display: inline-block !important;position: relative;}#sk-container-id-2 div.sk-text-repr-fallback {display: none;}</style><div id=\"sk-container-id-2\" class=\"sk-top-container\"><div class=\"sk-text-repr-fallback\"><pre>LinearRegression()</pre><b>In a Jupyter environment, please rerun this cell to show the HTML representation or trust the notebook. <br />On GitHub, the HTML representation is unable to render, please try loading this page with nbviewer.org.</b></div><div class=\"sk-container\" hidden><div class=\"sk-item\"><div class=\"sk-estimator sk-toggleable\"><input class=\"sk-toggleable__control sk-hidden--visually\" id=\"sk-estimator-id-2\" type=\"checkbox\" checked><label for=\"sk-estimator-id-2\" class=\"sk-toggleable__label sk-toggleable__label-arrow\">LinearRegression</label><div class=\"sk-toggleable__content\"><pre>LinearRegression()</pre></div></div></div></div></div>"
      ],
      "text/plain": [
       "LinearRegression()"
      ]
     },
     "execution_count": 204,
     "metadata": {},
     "output_type": "execute_result"
    }
   ],
   "source": [
    "linreg.fit(ppt_train_x,ppt_train_y)"
   ]
  },
  {
   "cell_type": "code",
   "execution_count": 208,
   "id": "da5ffce0-186e-4c89-9f48-0274c6351b2d",
   "metadata": {},
   "outputs": [
    {
     "data": {
      "text/plain": [
       "0.8415287769105042"
      ]
     },
     "execution_count": 208,
     "metadata": {},
     "output_type": "execute_result"
    }
   ],
   "source": [
    "Rsquare = linreg.score(ppt_train_x,ppt_train_y)\n",
    "Rsquare"
   ]
  },
  {
   "cell_type": "code",
   "execution_count": 212,
   "id": "864ce1fd-c59c-4c01-8832-f27611e72e5b",
   "metadata": {},
   "outputs": [
    {
     "data": {
      "text/plain": [
       "0.8300205624761345"
      ]
     },
     "execution_count": 212,
     "metadata": {},
     "output_type": "execute_result"
    }
   ],
   "source": [
    "N = ppt_train_x.shape[0]\n",
    "K = ppt_train_x.shape[1]\n",
    "Adj_Rsq = 1-((1-Rsquare)*(N-1)/(N-K-1))\n",
    "Adj_Rsq"
   ]
  },
  {
   "cell_type": "code",
   "execution_count": 216,
   "id": "a48938cb-e031-4cb4-a414-929570904114",
   "metadata": {},
   "outputs": [],
   "source": [
    "pred_train=linreg.predict(ppt_train_x)\n",
    "pred_test=linreg.predict(ppt_test_x)"
   ]
  },
  {
   "cell_type": "code",
   "execution_count": 218,
   "id": "33c288ed-f1da-478b-9047-310962657ce5",
   "metadata": {},
   "outputs": [],
   "source": [
    "err_test= ppt_test_y - pred_test"
   ]
  },
  {
   "cell_type": "code",
   "execution_count": 220,
   "id": "4348a593-df1b-41ba-93c0-498e91451029",
   "metadata": {},
   "outputs": [
    {
     "data": {
      "text/html": [
       "<div>\n",
       "<style scoped>\n",
       "    .dataframe tbody tr th:only-of-type {\n",
       "        vertical-align: middle;\n",
       "    }\n",
       "\n",
       "    .dataframe tbody tr th {\n",
       "        vertical-align: top;\n",
       "    }\n",
       "\n",
       "    .dataframe thead th {\n",
       "        text-align: right;\n",
       "    }\n",
       "</style>\n",
       "<table border=\"1\" class=\"dataframe\">\n",
       "  <thead>\n",
       "    <tr style=\"text-align: right;\">\n",
       "      <th></th>\n",
       "      <th>Sale_Price</th>\n",
       "    </tr>\n",
       "  </thead>\n",
       "  <tbody>\n",
       "    <tr>\n",
       "      <th>14</th>\n",
       "      <td>2535.957304</td>\n",
       "    </tr>\n",
       "    <tr>\n",
       "      <th>833</th>\n",
       "      <td>16083.518098</td>\n",
       "    </tr>\n",
       "    <tr>\n",
       "      <th>506</th>\n",
       "      <td>-26840.012313</td>\n",
       "    </tr>\n",
       "    <tr>\n",
       "      <th>917</th>\n",
       "      <td>17764.778177</td>\n",
       "    </tr>\n",
       "    <tr>\n",
       "      <th>624</th>\n",
       "      <td>-623.410288</td>\n",
       "    </tr>\n",
       "    <tr>\n",
       "      <th>...</th>\n",
       "      <td>...</td>\n",
       "    </tr>\n",
       "    <tr>\n",
       "      <th>765</th>\n",
       "      <td>3424.734473</td>\n",
       "    </tr>\n",
       "    <tr>\n",
       "      <th>893</th>\n",
       "      <td>9961.292296</td>\n",
       "    </tr>\n",
       "    <tr>\n",
       "      <th>76</th>\n",
       "      <td>35239.018382</td>\n",
       "    </tr>\n",
       "    <tr>\n",
       "      <th>1255</th>\n",
       "      <td>7232.135977</td>\n",
       "    </tr>\n",
       "    <tr>\n",
       "      <th>1246</th>\n",
       "      <td>-11676.979667</td>\n",
       "    </tr>\n",
       "  </tbody>\n",
       "</table>\n",
       "<p>365 rows × 1 columns</p>\n",
       "</div>"
      ],
      "text/plain": [
       "        Sale_Price\n",
       "14     2535.957304\n",
       "833   16083.518098\n",
       "506  -26840.012313\n",
       "917   17764.778177\n",
       "624    -623.410288\n",
       "...            ...\n",
       "765    3424.734473\n",
       "893    9961.292296\n",
       "76    35239.018382\n",
       "1255   7232.135977\n",
       "1246 -11676.979667\n",
       "\n",
       "[365 rows x 1 columns]"
      ]
     },
     "execution_count": 220,
     "metadata": {},
     "output_type": "execute_result"
    }
   ],
   "source": [
    "err_test"
   ]
  },
  {
   "cell_type": "code",
   "execution_count": 228,
   "id": "ed0e7aef-4046-4d65-9963-777793db89a0",
   "metadata": {},
   "outputs": [],
   "source": [
    "import numpy as np\n",
    "mse=np.mean(np.square(err_test))"
   ]
  },
  {
   "cell_type": "code",
   "execution_count": 230,
   "id": "debdb8f7-50d2-4b43-994f-c44244a5de45",
   "metadata": {},
   "outputs": [
    {
     "data": {
      "text/plain": [
       "844893322.1595998"
      ]
     },
     "execution_count": 230,
     "metadata": {},
     "output_type": "execute_result"
    }
   ],
   "source": [
    "mse"
   ]
  },
  {
   "cell_type": "code",
   "execution_count": 232,
   "id": "1db2753f-273d-4d09-a14f-087bad9fe0e2",
   "metadata": {},
   "outputs": [
    {
     "data": {
      "text/plain": [
       "29067.04873494383"
      ]
     },
     "execution_count": 232,
     "metadata": {},
     "output_type": "execute_result"
    }
   ],
   "source": [
    "rmse=np.sqrt(mse)\n",
    "rmse"
   ]
  },
  {
   "cell_type": "code",
   "execution_count": 236,
   "id": "9fe91c4d-966c-4d60-aae3-297bb6193a9e",
   "metadata": {},
   "outputs": [
    {
     "data": {
      "text/plain": [
       "11.550468476602935"
      ]
     },
     "execution_count": 236,
     "metadata": {},
     "output_type": "execute_result"
    }
   ],
   "source": [
    "mape=np.mean(np.abs(err_test*100/ppt_test_y))\n",
    "mape"
   ]
  },
  {
   "cell_type": "code",
   "execution_count": 242,
   "id": "04abfee4-7724-4ce7-8c46-96abf33ba35a",
   "metadata": {},
   "outputs": [
    {
     "data": {
      "text/html": [
       "<div>\n",
       "<style scoped>\n",
       "    .dataframe tbody tr th:only-of-type {\n",
       "        vertical-align: middle;\n",
       "    }\n",
       "\n",
       "    .dataframe tbody tr th {\n",
       "        vertical-align: top;\n",
       "    }\n",
       "\n",
       "    .dataframe thead th {\n",
       "        text-align: right;\n",
       "    }\n",
       "</style>\n",
       "<table border=\"1\" class=\"dataframe\">\n",
       "  <thead>\n",
       "    <tr style=\"text-align: right;\">\n",
       "      <th></th>\n",
       "      <th>Sale_Price</th>\n",
       "    </tr>\n",
       "  </thead>\n",
       "  <tbody>\n",
       "    <tr>\n",
       "      <th>803</th>\n",
       "      <td>187582.978219</td>\n",
       "    </tr>\n",
       "    <tr>\n",
       "      <th>1016</th>\n",
       "      <td>-28646.131723</td>\n",
       "    </tr>\n",
       "    <tr>\n",
       "      <th>533</th>\n",
       "      <td>5356.958045</td>\n",
       "    </tr>\n",
       "    <tr>\n",
       "      <th>474</th>\n",
       "      <td>-9878.369130</td>\n",
       "    </tr>\n",
       "    <tr>\n",
       "      <th>807</th>\n",
       "      <td>53622.921646</td>\n",
       "    </tr>\n",
       "    <tr>\n",
       "      <th>...</th>\n",
       "      <td>...</td>\n",
       "    </tr>\n",
       "    <tr>\n",
       "      <th>892</th>\n",
       "      <td>1990.916272</td>\n",
       "    </tr>\n",
       "    <tr>\n",
       "      <th>1142</th>\n",
       "      <td>70605.924406</td>\n",
       "    </tr>\n",
       "    <tr>\n",
       "      <th>33</th>\n",
       "      <td>-9270.304769</td>\n",
       "    </tr>\n",
       "    <tr>\n",
       "      <th>1220</th>\n",
       "      <td>26163.741989</td>\n",
       "    </tr>\n",
       "    <tr>\n",
       "      <th>285</th>\n",
       "      <td>-3273.904567</td>\n",
       "    </tr>\n",
       "  </tbody>\n",
       "</table>\n",
       "<p>1094 rows × 1 columns</p>\n",
       "</div>"
      ],
      "text/plain": [
       "         Sale_Price\n",
       "803   187582.978219\n",
       "1016  -28646.131723\n",
       "533     5356.958045\n",
       "474    -9878.369130\n",
       "807    53622.921646\n",
       "...             ...\n",
       "892     1990.916272\n",
       "1142   70605.924406\n",
       "33     -9270.304769\n",
       "1220   26163.741989\n",
       "285    -3273.904567\n",
       "\n",
       "[1094 rows x 1 columns]"
      ]
     },
     "execution_count": 242,
     "metadata": {},
     "output_type": "execute_result"
    }
   ],
   "source": [
    "err_train = ppt_train_y - pred_train\n",
    "err_train"
   ]
  },
  {
   "cell_type": "code",
   "execution_count": 244,
   "id": "f5134618-4745-4434-911a-e71a8e267d2f",
   "metadata": {},
   "outputs": [],
   "source": [
    "import matplotlib.pyplot as plt"
   ]
  },
  {
   "cell_type": "code",
   "execution_count": 252,
   "id": "d76c1e00-a45a-4813-a13f-0dcc6ec648c2",
   "metadata": {},
   "outputs": [
    {
     "data": {
      "text/plain": [
       "[<matplotlib.lines.Line2D at 0x10a0fc2d0>]"
      ]
     },
     "execution_count": 252,
     "metadata": {},
     "output_type": "execute_result"
    },
    {
     "data": {
      "image/png": "[encoded data removed]",
      "text/plain": [
       "<Figure size 640x480 with 1 Axes>"
      ]
     },
     "metadata": {},
     "output_type": "display_data"
    }
   ],
   "source": [
    "plt.plot(err_train,'*')"
   ]
  },
  {
   "cell_type": "code",
   "execution_count": 258,
   "id": "8cbc6b2e-cbfc-4db0-b648-895114add5bd",
   "metadata": {},
   "outputs": [
    {
     "data": {
      "image/png": "[encoded data removed]",
      "text/plain": [
       "<Figure size 640x480 with 1 Axes>"
      ]
     },
     "metadata": {},
     "output_type": "display_data"
    }
   ],
   "source": [
    "plt.hist(err_train , bins =25 ,edgecolor='r');"
   ]
  },
  {
   "cell_type": "code",
   "execution_count": 268,
   "id": "9d0e6c3f-1f18-453d-893b-562ff7fec756",
   "metadata": {},
   "outputs": [
    {
     "ename": "ValueError",
     "evalue": "Length of values (365) does not match length of index (1094)",
     "output_type": "error",
     "traceback": [
      "\u001b[0;31m---------------------------------------------------------------------------\u001b[0m",
      "\u001b[0;31mValueError\u001b[0m                                Traceback (most recent call last)",
      "Cell \u001b[0;32mIn[268], line 4\u001b[0m\n\u001b[1;32m      2\u001b[0m pred_actual_df\u001b[38;5;241m=\u001b[39mpd\u001b[38;5;241m.\u001b[39mDataFrame()\n\u001b[1;32m      3\u001b[0m pred_actual_df[\u001b[38;5;124m'\u001b[39m\u001b[38;5;124mactual\u001b[39m\u001b[38;5;124m'\u001b[39m]\u001b[38;5;241m=\u001b[39mppt_train_y\n\u001b[0;32m----> 4\u001b[0m pred_actual_df[\u001b[38;5;124m'\u001b[39m\u001b[38;5;124mpredicted\u001b[39m\u001b[38;5;124m'\u001b[39m]\u001b[38;5;241m=\u001b[39mpred_test\n",
      "File \u001b[0;32m/opt/anaconda3/lib/python3.11/site-packages/pandas/core/frame.py:4091\u001b[0m, in \u001b[0;36mDataFrame.__setitem__\u001b[0;34m(self, key, value)\u001b[0m\n\u001b[1;32m   4088\u001b[0m     \u001b[38;5;28mself\u001b[39m\u001b[38;5;241m.\u001b[39m_setitem_array([key], value)\n\u001b[1;32m   4089\u001b[0m \u001b[38;5;28;01melse\u001b[39;00m:\n\u001b[1;32m   4090\u001b[0m     \u001b[38;5;66;03m# set column\u001b[39;00m\n\u001b[0;32m-> 4091\u001b[0m     \u001b[38;5;28mself\u001b[39m\u001b[38;5;241m.\u001b[39m_set_item(key, value)\n",
      "File \u001b[0;32m/opt/anaconda3/lib/python3.11/site-packages/pandas/core/frame.py:4300\u001b[0m, in \u001b[0;36mDataFrame._set_item\u001b[0;34m(self, key, value)\u001b[0m\n\u001b[1;32m   4290\u001b[0m \u001b[38;5;28;01mdef\u001b[39;00m \u001b[38;5;21m_set_item\u001b[39m(\u001b[38;5;28mself\u001b[39m, key, value) \u001b[38;5;241m-\u001b[39m\u001b[38;5;241m>\u001b[39m \u001b[38;5;28;01mNone\u001b[39;00m:\n\u001b[1;32m   4291\u001b[0m \u001b[38;5;250m    \u001b[39m\u001b[38;5;124;03m\"\"\"\u001b[39;00m\n\u001b[1;32m   4292\u001b[0m \u001b[38;5;124;03m    Add series to DataFrame in specified column.\u001b[39;00m\n\u001b[1;32m   4293\u001b[0m \n\u001b[0;32m   (...)\u001b[0m\n\u001b[1;32m   4298\u001b[0m \u001b[38;5;124;03m    ensure homogeneity.\u001b[39;00m\n\u001b[1;32m   4299\u001b[0m \u001b[38;5;124;03m    \"\"\"\u001b[39;00m\n\u001b[0;32m-> 4300\u001b[0m     value, refs \u001b[38;5;241m=\u001b[39m \u001b[38;5;28mself\u001b[39m\u001b[38;5;241m.\u001b[39m_sanitize_column(value)\n\u001b[1;32m   4302\u001b[0m     \u001b[38;5;28;01mif\u001b[39;00m (\n\u001b[1;32m   4303\u001b[0m         key \u001b[38;5;129;01min\u001b[39;00m \u001b[38;5;28mself\u001b[39m\u001b[38;5;241m.\u001b[39mcolumns\n\u001b[1;32m   4304\u001b[0m         \u001b[38;5;129;01mand\u001b[39;00m value\u001b[38;5;241m.\u001b[39mndim \u001b[38;5;241m==\u001b[39m \u001b[38;5;241m1\u001b[39m\n\u001b[1;32m   4305\u001b[0m         \u001b[38;5;129;01mand\u001b[39;00m \u001b[38;5;129;01mnot\u001b[39;00m \u001b[38;5;28misinstance\u001b[39m(value\u001b[38;5;241m.\u001b[39mdtype, ExtensionDtype)\n\u001b[1;32m   4306\u001b[0m     ):\n\u001b[1;32m   4307\u001b[0m         \u001b[38;5;66;03m# broadcast across multiple columns if necessary\u001b[39;00m\n\u001b[1;32m   4308\u001b[0m         \u001b[38;5;28;01mif\u001b[39;00m \u001b[38;5;129;01mnot\u001b[39;00m \u001b[38;5;28mself\u001b[39m\u001b[38;5;241m.\u001b[39mcolumns\u001b[38;5;241m.\u001b[39mis_unique \u001b[38;5;129;01mor\u001b[39;00m \u001b[38;5;28misinstance\u001b[39m(\u001b[38;5;28mself\u001b[39m\u001b[38;5;241m.\u001b[39mcolumns, MultiIndex):\n",
      "File \u001b[0;32m/opt/anaconda3/lib/python3.11/site-packages/pandas/core/frame.py:5039\u001b[0m, in \u001b[0;36mDataFrame._sanitize_column\u001b[0;34m(self, value)\u001b[0m\n\u001b[1;32m   5036\u001b[0m     \u001b[38;5;28;01mreturn\u001b[39;00m _reindex_for_setitem(value, \u001b[38;5;28mself\u001b[39m\u001b[38;5;241m.\u001b[39mindex)\n\u001b[1;32m   5038\u001b[0m \u001b[38;5;28;01mif\u001b[39;00m is_list_like(value):\n\u001b[0;32m-> 5039\u001b[0m     com\u001b[38;5;241m.\u001b[39mrequire_length_match(value, \u001b[38;5;28mself\u001b[39m\u001b[38;5;241m.\u001b[39mindex)\n\u001b[1;32m   5040\u001b[0m \u001b[38;5;28;01mreturn\u001b[39;00m sanitize_array(value, \u001b[38;5;28mself\u001b[39m\u001b[38;5;241m.\u001b[39mindex, copy\u001b[38;5;241m=\u001b[39m\u001b[38;5;28;01mTrue\u001b[39;00m, allow_2d\u001b[38;5;241m=\u001b[39m\u001b[38;5;28;01mTrue\u001b[39;00m), \u001b[38;5;28;01mNone\u001b[39;00m\n",
      "File \u001b[0;32m/opt/anaconda3/lib/python3.11/site-packages/pandas/core/common.py:561\u001b[0m, in \u001b[0;36mrequire_length_match\u001b[0;34m(data, index)\u001b[0m\n\u001b[1;32m    557\u001b[0m \u001b[38;5;250m\u001b[39m\u001b[38;5;124;03m\"\"\"\u001b[39;00m\n\u001b[1;32m    558\u001b[0m \u001b[38;5;124;03mCheck the length of data matches the length of the index.\u001b[39;00m\n\u001b[1;32m    559\u001b[0m \u001b[38;5;124;03m\"\"\"\u001b[39;00m\n\u001b[1;32m    560\u001b[0m \u001b[38;5;28;01mif\u001b[39;00m \u001b[38;5;28mlen\u001b[39m(data) \u001b[38;5;241m!=\u001b[39m \u001b[38;5;28mlen\u001b[39m(index):\n\u001b[0;32m--> 561\u001b[0m     \u001b[38;5;28;01mraise\u001b[39;00m \u001b[38;5;167;01mValueError\u001b[39;00m(\n\u001b[1;32m    562\u001b[0m         \u001b[38;5;124m\"\u001b[39m\u001b[38;5;124mLength of values \u001b[39m\u001b[38;5;124m\"\u001b[39m\n\u001b[1;32m    563\u001b[0m         \u001b[38;5;124mf\u001b[39m\u001b[38;5;124m\"\u001b[39m\u001b[38;5;124m(\u001b[39m\u001b[38;5;132;01m{\u001b[39;00m\u001b[38;5;28mlen\u001b[39m(data)\u001b[38;5;132;01m}\u001b[39;00m\u001b[38;5;124m) \u001b[39m\u001b[38;5;124m\"\u001b[39m\n\u001b[1;32m    564\u001b[0m         \u001b[38;5;124m\"\u001b[39m\u001b[38;5;124mdoes not match length of index \u001b[39m\u001b[38;5;124m\"\u001b[39m\n\u001b[1;32m    565\u001b[0m         \u001b[38;5;124mf\u001b[39m\u001b[38;5;124m\"\u001b[39m\u001b[38;5;124m(\u001b[39m\u001b[38;5;132;01m{\u001b[39;00m\u001b[38;5;28mlen\u001b[39m(index)\u001b[38;5;132;01m}\u001b[39;00m\u001b[38;5;124m)\u001b[39m\u001b[38;5;124m\"\u001b[39m\n\u001b[1;32m    566\u001b[0m     )\n",
      "\u001b[0;31mValueError\u001b[0m: Length of values (365) does not match length of index (1094)"
     ]
    }
   ],
   "source": [
    "import pandas as pd\n",
    "pred_actual_df=pd.DataFrame()\n"
   ]
  },
  {
   "cell_type": "code",
   "execution_count": 272,
   "id": "f911a8da-eca7-456c-95d2-80418fb1841a",
   "metadata": {},
   "outputs": [],
   "source": [
    "pred_actual_df['actual']=ppt_train_y\n",
    "pred_actual_df['predicted']=pred_train"
   ]
  },
  {
   "cell_type": "code",
   "execution_count": 274,
   "id": "1fc6775b-ccd7-4087-b314-6ba8a32c2267",
   "metadata": {},
   "outputs": [
    {
     "data": {
      "text/html": [
       "<div>\n",
       "<style scoped>\n",
       "    .dataframe tbody tr th:only-of-type {\n",
       "        vertical-align: middle;\n",
       "    }\n",
       "\n",
       "    .dataframe tbody tr th {\n",
       "        vertical-align: top;\n",
       "    }\n",
       "\n",
       "    .dataframe thead th {\n",
       "        text-align: right;\n",
       "    }\n",
       "</style>\n",
       "<table border=\"1\" class=\"dataframe\">\n",
       "  <thead>\n",
       "    <tr style=\"text-align: right;\">\n",
       "      <th></th>\n",
       "      <th>actual</th>\n",
       "      <th>predicted</th>\n",
       "    </tr>\n",
       "  </thead>\n",
       "  <tbody>\n",
       "    <tr>\n",
       "      <th>803</th>\n",
       "      <td>582933</td>\n",
       "      <td>395350.021781</td>\n",
       "    </tr>\n",
       "    <tr>\n",
       "      <th>1016</th>\n",
       "      <td>203000</td>\n",
       "      <td>231646.131723</td>\n",
       "    </tr>\n",
       "    <tr>\n",
       "      <th>533</th>\n",
       "      <td>39300</td>\n",
       "      <td>33943.041955</td>\n",
       "    </tr>\n",
       "    <tr>\n",
       "      <th>474</th>\n",
       "      <td>251000</td>\n",
       "      <td>260878.369130</td>\n",
       "    </tr>\n",
       "    <tr>\n",
       "      <th>807</th>\n",
       "      <td>223500</td>\n",
       "      <td>169877.078354</td>\n",
       "    </tr>\n",
       "  </tbody>\n",
       "</table>\n",
       "</div>"
      ],
      "text/plain": [
       "      actual      predicted\n",
       "803   582933  395350.021781\n",
       "1016  203000  231646.131723\n",
       "533    39300   33943.041955\n",
       "474   251000  260878.369130\n",
       "807   223500  169877.078354"
      ]
     },
     "execution_count": 274,
     "metadata": {},
     "output_type": "execute_result"
    }
   ],
   "source": [
    "pred_actual_df.head()"
   ]
  },
  {
   "cell_type": "code",
   "execution_count": 276,
   "id": "8574374d-4e6c-4c16-9f55-56a2a1ec3b0d",
   "metadata": {},
   "outputs": [],
   "source": [
    "import seaborn as sns"
   ]
  },
  {
   "cell_type": "code",
   "execution_count": 278,
   "id": "fc4e1d52-3aed-4d49-956c-b086f53d8d5d",
   "metadata": {},
   "outputs": [
    {
     "name": "stderr",
     "output_type": "stream",
     "text": [
      "/opt/anaconda3/lib/python3.11/site-packages/seaborn/_oldcore.py:1119: FutureWarning: use_inf_as_na option is deprecated and will be removed in a future version. Convert inf values to NaN before operating instead.\n",
      "  with pd.option_context('mode.use_inf_as_na', True):\n",
      "/opt/anaconda3/lib/python3.11/site-packages/seaborn/_oldcore.py:1119: FutureWarning: use_inf_as_na option is deprecated and will be removed in a future version. Convert inf values to NaN before operating instead.\n",
      "  with pd.option_context('mode.use_inf_as_na', True):\n"
     ]
    },
    {
     "data": {
      "text/plain": [
       "<seaborn.axisgrid.JointGrid at 0x10a82ca50>"
      ]
     },
     "execution_count": 278,
     "metadata": {},
     "output_type": "execute_result"
    },
    {
     "data": {
      "image/png": "[encoded data removed]",
      "text/plain": [
       "<Figure size 600x600 with 3 Axes>"
      ]
     },
     "metadata": {},
     "output_type": "display_data"
    }
   ],
   "source": [
    "sns.jointplot(x='actual',y='predicted' , data = pred_actual_df , kind='reg')"
   ]
  },
  {
   "cell_type": "code",
   "execution_count": null,
   "id": "e06d8f8e-015b-4ce3-8ee0-92c9df6f7e38",
   "metadata": {},
   "outputs": [],
   "source": []
  }
 ],
 "metadata": {
  "kernelspec": {
   "display_name": "Python 3 (ipykernel)",
   "language": "python",
   "name": "python3"
  },
  "language_info": {
   "codemirror_mode": {
    "name": "ipython",
    "version": 3
   },
   "file_extension": ".py",
   "mimetype": "text/x-python",
   "name": "python",
   "nbconvert_exporter": "python",
   "pygments_lexer": "ipython3",
   "version": "3.11.7"
  }
 },
 "nbformat": 4,
 "nbformat_minor": 5
}
